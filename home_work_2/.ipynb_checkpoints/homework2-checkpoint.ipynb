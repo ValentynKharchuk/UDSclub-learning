{
 "cells": [
  {
   "cell_type": "code",
   "execution_count": 1,
   "metadata": {},
   "outputs": [],
   "source": [
    "import numpy as np\n",
    "import pandas as pd\n",
    "import re\n",
    "import string\n",
    "\n",
    "from scipy.sparse import csr_matrix, hstack\n",
    "from collections import Counter\n",
    "from sklearn.feature_extraction.text import TfidfVectorizer, CountVectorizer\n",
    "from sklearn.linear_model import LogisticRegression\n",
    "from sklearn.model_selection import cross_val_score"
   ]
  },
  {
   "cell_type": "code",
   "execution_count": 2,
   "metadata": {},
   "outputs": [],
   "source": [
    "train = pd.read_csv('train.csv')\n",
    "test = pd.read_csv('test.csv')\n",
    "sample_submission = pd.read_csv('sample_submission.csv')"
   ]
  },
  {
   "cell_type": "code",
   "execution_count": 3,
   "metadata": {},
   "outputs": [
    {
     "data": {
      "text/html": [
       "<div>\n",
       "<style scoped>\n",
       "    .dataframe tbody tr th:only-of-type {\n",
       "        vertical-align: middle;\n",
       "    }\n",
       "\n",
       "    .dataframe tbody tr th {\n",
       "        vertical-align: top;\n",
       "    }\n",
       "\n",
       "    .dataframe thead th {\n",
       "        text-align: right;\n",
       "    }\n",
       "</style>\n",
       "<table border=\"1\" class=\"dataframe\">\n",
       "  <thead>\n",
       "    <tr style=\"text-align: right;\">\n",
       "      <th></th>\n",
       "      <th>id</th>\n",
       "      <th>comment_text</th>\n",
       "    </tr>\n",
       "  </thead>\n",
       "  <tbody>\n",
       "    <tr>\n",
       "      <th>33506</th>\n",
       "      <td>37b14dbb8c577fab</td>\n",
       "      <td>== trust company  ==</td>\n",
       "    </tr>\n",
       "    <tr>\n",
       "      <th>145260</th>\n",
       "      <td>f2da318cefce9ea3</td>\n",
       "      <td>== Iowa-class battleships == \\n\\n Stupid me......</td>\n",
       "    </tr>\n",
       "    <tr>\n",
       "      <th>102604</th>\n",
       "      <td>ab4ac4cea5898005</td>\n",
       "      <td>\" \\n :::::But the mainstream churches and ideo...</td>\n",
       "    </tr>\n",
       "    <tr>\n",
       "      <th>148663</th>\n",
       "      <td>f881deec4919954f</td>\n",
       "      <td>\" \\n\\n == Incubation cleanout == \\n\\n I was st...</td>\n",
       "    </tr>\n",
       "    <tr>\n",
       "      <th>13446</th>\n",
       "      <td>16a3fccb8ef6ff62</td>\n",
       "      <td>:You've produced extremely poor sources and de...</td>\n",
       "    </tr>\n",
       "    <tr>\n",
       "      <th>108250</th>\n",
       "      <td>b4a9f37b9d6a3189</td>\n",
       "      <td>:::This user is a sock of . Generally disrupti...</td>\n",
       "    </tr>\n",
       "    <tr>\n",
       "      <th>32205</th>\n",
       "      <td>3588201bb031bb48</td>\n",
       "      <td>Oh, and consorts for the Spanish Netherlands a...</td>\n",
       "    </tr>\n",
       "    <tr>\n",
       "      <th>2931</th>\n",
       "      <td>05127023a71c4458</td>\n",
       "      <td>\" \\n :We can describe the naming within the in...</td>\n",
       "    </tr>\n",
       "    <tr>\n",
       "      <th>89691</th>\n",
       "      <td>958c27886d8a00dd</td>\n",
       "      <td>Season pages == \\n\\n Please remember that ther...</td>\n",
       "    </tr>\n",
       "    <tr>\n",
       "      <th>25119</th>\n",
       "      <td>29de040443eb6451</td>\n",
       "      <td>\" \\n\\n == Eagle Scout mention == \\n I have inc...</td>\n",
       "    </tr>\n",
       "  </tbody>\n",
       "</table>\n",
       "</div>"
      ],
      "text/plain": [
       "                      id                                       comment_text\n",
       "33506   37b14dbb8c577fab                               == trust company  ==\n",
       "145260  f2da318cefce9ea3  == Iowa-class battleships == \\n\\n Stupid me......\n",
       "102604  ab4ac4cea5898005  \" \\n :::::But the mainstream churches and ideo...\n",
       "148663  f881deec4919954f  \" \\n\\n == Incubation cleanout == \\n\\n I was st...\n",
       "13446   16a3fccb8ef6ff62  :You've produced extremely poor sources and de...\n",
       "108250  b4a9f37b9d6a3189  :::This user is a sock of . Generally disrupti...\n",
       "32205   3588201bb031bb48  Oh, and consorts for the Spanish Netherlands a...\n",
       "2931    05127023a71c4458  \" \\n :We can describe the naming within the in...\n",
       "89691   958c27886d8a00dd  Season pages == \\n\\n Please remember that ther...\n",
       "25119   29de040443eb6451  \" \\n\\n == Eagle Scout mention == \\n I have inc..."
      ]
     },
     "execution_count": 3,
     "metadata": {},
     "output_type": "execute_result"
    }
   ],
   "source": [
    "test.sample(10)"
   ]
  },
  {
   "cell_type": "markdown",
   "metadata": {},
   "source": [
    "### The most common word"
   ]
  },
  {
   "cell_type": "code",
   "execution_count": 4,
   "metadata": {},
   "outputs": [],
   "source": [
    "def get_words(text):\n",
    "    \n",
    "    result = re.findall(r\"[a-z]+'?[a-z]+\", text.lower())\n",
    "    \n",
    "    return result"
   ]
  },
  {
   "cell_type": "code",
   "execution_count": 5,
   "metadata": {},
   "outputs": [],
   "source": [
    "train_text = train['comment_text'].apply(get_words)\n",
    "\n",
    "test_text = test['comment_text'].apply(get_words)\n",
    "\n",
    "all_text = pd.concat([train_text, test_text])"
   ]
  },
  {
   "cell_type": "code",
   "execution_count": 6,
   "metadata": {},
   "outputs": [],
   "source": [
    "total = list()\n",
    "for line in all_text:\n",
    "    total.extend(line)"
   ]
  },
  {
   "cell_type": "code",
   "execution_count": 7,
   "metadata": {},
   "outputs": [
    {
     "data": {
      "text/plain": [
       "[('the', 919035), ('to', 539236), ('of', 410839)]"
      ]
     },
     "execution_count": 7,
     "metadata": {},
     "output_type": "execute_result"
    }
   ],
   "source": [
    "count = Counter(total)\n",
    "count.most_common(3)"
   ]
  },
  {
   "cell_type": "markdown",
   "metadata": {},
   "source": [
    "Какое слово встречается чаще всего в объединенном train и test датасете? - **'the'** "
   ]
  },
  {
   "cell_type": "markdown",
   "metadata": {},
   "source": [
    "### Увеличение параметра C в Logistic regression увеличивает или уменьшает степень регуляризации?"
   ]
  },
  {
   "cell_type": "markdown",
   "metadata": {},
   "source": [
    "Увеличение параметра C в Logistic regression увеличивает или уменьшает степень регуляризации?\n",
    "\n",
    "**C** – обратный коэффициент регуляризации (тот самый C в sklearn-реализации LogisticRegression)\n",
    "\n",
    "Ответ: **Уменьшает**"
   ]
  },
  {
   "cell_type": "markdown",
   "metadata": {},
   "source": [
    "### Crossvalidation"
   ]
  },
  {
   "cell_type": "code",
   "execution_count": 6,
   "metadata": {},
   "outputs": [],
   "source": [
    "train_text = train_text.apply(lambda text: ' '.join(text))\n",
    "\n",
    "test_text = test_text.apply(lambda text: ' '.join(text))\n",
    "\n",
    "all_text = pd.concat([train_text, test_text])"
   ]
  },
  {
   "cell_type": "code",
   "execution_count": 7,
   "metadata": {},
   "outputs": [],
   "source": [
    "# TfidfVectorizer или CountVectorizer\n",
    "word_vectorizer = TfidfVectorizer() \n",
    "\n",
    "word_vectorizer.fit(all_text)\n",
    "train_word_features = word_vectorizer.transform(train_text)\n",
    "test_word_features = word_vectorizer.transform(test_text)"
   ]
  },
  {
   "cell_type": "code",
   "execution_count": 8,
   "metadata": {
    "scrolled": true
   },
   "outputs": [
    {
     "name": "stdout",
     "output_type": "stream",
     "text": [
      "CV score for class toxic is 0.9724238498388088\n",
      "CV score for class severe_toxic is 0.9833079735989355\n",
      "CV score for class obscene is 0.9843418455895124\n",
      "CV score for class threat is 0.98638587067384\n",
      "CV score for class insult is 0.9763643664586121\n",
      "CV score for class identity_hate is 0.973462305990869\n",
      "Total score is 0.9793810353584296\n"
     ]
    }
   ],
   "source": [
    "class_names = ['toxic', 'severe_toxic', 'obscene', 'threat', 'insult', 'identity_hate']\n",
    "class_c = [4, 2, 3, 4, 3, 3]\n",
    "\n",
    "scores= []\n",
    "\n",
    "for class_name, C in zip(class_names, class_c):\n",
    "    \n",
    "    classifier = LogisticRegression(C=C,random_state=7) \n",
    "\n",
    "    train_target = train[class_name]\n",
    "\n",
    "    cv_score = np.mean(cross_val_score(classifier, train_word_features, train_target, scoring='roc_auc'))\n",
    "\n",
    "    print('CV score for class {} is {}'.format(class_name, cv_score))\n",
    "    scores.append(cv_score)\n",
    "\n",
    "print('Total score is {}'.format(np.mean(scores)))   "
   ]
  },
  {
   "cell_type": "markdown",
   "metadata": {},
   "source": [
    "\n",
    "Total score is  **0.9793810353584296** \n"
   ]
  },
  {
   "cell_type": "markdown",
   "metadata": {},
   "source": [
    "### Create submission for Kaggle"
   ]
  },
  {
   "cell_type": "code",
   "execution_count": 9,
   "metadata": {},
   "outputs": [],
   "source": [
    "train['clean_comment'] = train_text\n",
    "test['clean_comment'] = test_text"
   ]
  },
  {
   "cell_type": "code",
   "execution_count": 10,
   "metadata": {},
   "outputs": [],
   "source": [
    "#add some features to train and test\n",
    "train['count_sent'] = train[\"comment_text\"].apply(lambda x: len(re.findall(\"\\n\",str(x)))+1)\n",
    "train['count_words'] = train[\"clean_comment\"].apply(lambda x: len(str(x).split()))\n",
    "train['count_unique_words'] = train[\"clean_comment\"].apply(lambda x: len(set(str(x).split())))\n",
    "train['count_letters'] = train[\"clean_comment\"].apply(lambda x: len(str(x)))\n",
    "train[\"count_punctuations\"] = train[\"comment_text\"].apply(lambda x: len([c for c in str(x) if c in string.punctuation]))\n",
    "train[\"count_words_upper\"] = train[\"comment_text\"].apply(lambda x: len([w for w in str(x).split() if w.isupper()]))\n",
    "train[\"count_words_title\"] = train[\"comment_text\"].apply(lambda x: len([w for w in str(x).split() if w.istitle()]))\n",
    "\n",
    "\n",
    "test['count_sent'] = test[\"comment_text\"].apply(lambda x: len(re.findall(\"\\n\",str(x)))+1)\n",
    "test['count_words'] = test[\"clean_comment\"].apply(lambda x: len(str(x).split()))\n",
    "test['count_unique_words'] = test[\"clean_comment\"].apply(lambda x: len(set(str(x).split())))\n",
    "test['count_letters'] = test[\"clean_comment\"].apply(lambda x: len(str(x)))\n",
    "test[\"count_punctuations\"] = test[\"comment_text\"].apply(lambda x: len([c for c in str(x) if c in string.punctuation]))\n",
    "test[\"count_words_upper\"] = test[\"comment_text\"].apply(lambda x: len([w for w in str(x).split() if w.isupper()]))\n",
    "test[\"count_words_title\"] = test[\"comment_text\"].apply(lambda x: len([w for w in str(x).split() if w.istitle()]))"
   ]
  },
  {
   "cell_type": "code",
   "execution_count": 11,
   "metadata": {},
   "outputs": [],
   "source": [
    "features_train = train[train.columns[-7:]]\n",
    "features_test = test[test.columns[-7:]]"
   ]
  },
  {
   "cell_type": "code",
   "execution_count": 12,
   "metadata": {},
   "outputs": [
    {
     "name": "stdout",
     "output_type": "stream",
     "text": [
      "Features_train shape: (159571, 7)\n",
      "Train word features shape: (159571, 286201)\n"
     ]
    }
   ],
   "source": [
    "features_train = csr_matrix(features_train)\n",
    "features_test = csr_matrix(features_test)\n",
    "\n",
    "print('Features_train shape: {}'.format(features_train.shape))\n",
    "print('Train word features shape: {}'.format(train_word_features.shape))"
   ]
  },
  {
   "cell_type": "code",
   "execution_count": 13,
   "metadata": {},
   "outputs": [],
   "source": [
    "x_train = hstack([train_word_features, features_train])\n",
    "\n",
    "x_test = hstack([test_word_features, features_test])"
   ]
  },
  {
   "cell_type": "code",
   "execution_count": 14,
   "metadata": {},
   "outputs": [],
   "source": [
    "submission = pd.DataFrame.from_dict({'id': test['id']})"
   ]
  },
  {
   "cell_type": "code",
   "execution_count": 15,
   "metadata": {},
   "outputs": [],
   "source": [
    "class_names = ['toxic', 'severe_toxic', 'obscene', 'threat', 'insult', 'identity_hate']\n",
    "class_c = [4, 2, 3, 4, 3, 3]\n",
    "\n",
    "for class_name, C in zip(class_names, class_c):\n",
    "    \n",
    "    y_train = train[class_name]\n",
    "    \n",
    "    classifier = LogisticRegression(C=C,random_state=7)\n",
    "      \n",
    "    classifier.fit(x_train, y_train)\n",
    "    \n",
    "    submission[class_name] = classifier.predict_proba(x_test)[:, 1]"
   ]
  },
  {
   "cell_type": "code",
   "execution_count": 60,
   "metadata": {},
   "outputs": [],
   "source": [
    "# submission.to_csv('submission_1.csv', index=False)"
   ]
  },
  {
   "cell_type": "code",
   "execution_count": 17,
   "metadata": {},
   "outputs": [
    {
     "data": {
      "text/html": [
       "<div>\n",
       "<style scoped>\n",
       "    .dataframe tbody tr th:only-of-type {\n",
       "        vertical-align: middle;\n",
       "    }\n",
       "\n",
       "    .dataframe tbody tr th {\n",
       "        vertical-align: top;\n",
       "    }\n",
       "\n",
       "    .dataframe thead th {\n",
       "        text-align: right;\n",
       "    }\n",
       "</style>\n",
       "<table border=\"1\" class=\"dataframe\">\n",
       "  <thead>\n",
       "    <tr style=\"text-align: right;\">\n",
       "      <th></th>\n",
       "      <th>id</th>\n",
       "      <th>toxic</th>\n",
       "      <th>severe_toxic</th>\n",
       "      <th>obscene</th>\n",
       "      <th>threat</th>\n",
       "      <th>insult</th>\n",
       "      <th>identity_hate</th>\n",
       "    </tr>\n",
       "  </thead>\n",
       "  <tbody>\n",
       "    <tr>\n",
       "      <th>0</th>\n",
       "      <td>00001cee341fdb12</td>\n",
       "      <td>0.069878</td>\n",
       "      <td>0.000326</td>\n",
       "      <td>0.035369</td>\n",
       "      <td>1.423250e-09</td>\n",
       "      <td>0.030425</td>\n",
       "      <td>0.000717</td>\n",
       "    </tr>\n",
       "    <tr>\n",
       "      <th>1</th>\n",
       "      <td>0000247867823ef7</td>\n",
       "      <td>0.225610</td>\n",
       "      <td>0.045461</td>\n",
       "      <td>0.097415</td>\n",
       "      <td>2.221269e-02</td>\n",
       "      <td>0.094416</td>\n",
       "      <td>0.032334</td>\n",
       "    </tr>\n",
       "    <tr>\n",
       "      <th>2</th>\n",
       "      <td>00013b17ad220c46</td>\n",
       "      <td>0.204816</td>\n",
       "      <td>0.066885</td>\n",
       "      <td>0.108946</td>\n",
       "      <td>4.843859e-02</td>\n",
       "      <td>0.107200</td>\n",
       "      <td>0.022976</td>\n",
       "    </tr>\n",
       "    <tr>\n",
       "      <th>3</th>\n",
       "      <td>00017563c3f7919a</td>\n",
       "      <td>0.160552</td>\n",
       "      <td>0.009108</td>\n",
       "      <td>0.065000</td>\n",
       "      <td>1.007349e-04</td>\n",
       "      <td>0.061581</td>\n",
       "      <td>0.014589</td>\n",
       "    </tr>\n",
       "    <tr>\n",
       "      <th>4</th>\n",
       "      <td>00017695ad8997eb</td>\n",
       "      <td>0.248664</td>\n",
       "      <td>0.062445</td>\n",
       "      <td>0.104271</td>\n",
       "      <td>8.405659e-02</td>\n",
       "      <td>0.102166</td>\n",
       "      <td>0.083637</td>\n",
       "    </tr>\n",
       "  </tbody>\n",
       "</table>\n",
       "</div>"
      ],
      "text/plain": [
       "                 id     toxic  severe_toxic   obscene        threat    insult  \\\n",
       "0  00001cee341fdb12  0.069878      0.000326  0.035369  1.423250e-09  0.030425   \n",
       "1  0000247867823ef7  0.225610      0.045461  0.097415  2.221269e-02  0.094416   \n",
       "2  00013b17ad220c46  0.204816      0.066885  0.108946  4.843859e-02  0.107200   \n",
       "3  00017563c3f7919a  0.160552      0.009108  0.065000  1.007349e-04  0.061581   \n",
       "4  00017695ad8997eb  0.248664      0.062445  0.104271  8.405659e-02  0.102166   \n",
       "\n",
       "   identity_hate  \n",
       "0       0.000717  \n",
       "1       0.032334  \n",
       "2       0.022976  \n",
       "3       0.014589  \n",
       "4       0.083637  "
      ]
     },
     "execution_count": 17,
     "metadata": {},
     "output_type": "execute_result"
    }
   ],
   "source": [
    "submission.head()"
   ]
  },
  {
   "cell_type": "code",
   "execution_count": 23,
   "metadata": {},
   "outputs": [
    {
     "name": "stdout",
     "output_type": "stream",
     "text": [
      "Current C:  0.01\n",
      "CV score for class toxic is 0.8144704594381428\n",
      "CV score for class severe_toxic is 0.7999057832436143\n",
      "CV score for class obscene is 0.7479850343725346\n",
      "CV score for class threat is 0.6168210961621791\n",
      "CV score for class insult is 0.8041743293710826\n",
      "CV score for class identity_hate is 0.6320139195300842\n",
      "Total score is 0.7358951036862728\n",
      "********************\n",
      "Current C:  1\n",
      "CV score for class toxic is 0.9575528140589791\n",
      "CV score for class severe_toxic is 0.7455828483374138\n",
      "CV score for class obscene is 0.6817178634041001\n",
      "CV score for class threat is 0.6100280086907358\n",
      "CV score for class insult is 0.7961432283919191\n",
      "CV score for class identity_hate is 0.6314722151285254\n",
      "Total score is 0.7370828296686122\n",
      "********************\n",
      "Current C:  3\n",
      "CV score for class toxic is 0.9671816206078242\n",
      "CV score for class severe_toxic is 0.7455679724075321\n",
      "CV score for class obscene is 0.6897277172860922\n",
      "CV score for class threat is 0.6091270093464576\n",
      "CV score for class insult is 0.6899233420571175\n",
      "CV score for class identity_hate is 0.637535224379334\n",
      "Total score is 0.7231771476807264\n",
      "********************\n",
      "Current C:  5\n",
      "CV score for class toxic is 0.9219534227292706\n",
      "CV score for class severe_toxic is 0.7428081638574601\n",
      "CV score for class obscene is 0.7604708834282583\n",
      "CV score for class threat is 0.609982508772113\n",
      "CV score for class insult is 0.6874851210185283\n",
      "CV score for class identity_hate is 0.6325493824312254\n",
      "Total score is 0.7258749137061425\n",
      "********************\n",
      "Current C:  10\n",
      "CV score for class toxic is 0.874548347892068\n",
      "CV score for class severe_toxic is 0.7473805893367337\n",
      "CV score for class obscene is 0.7673627170762259\n",
      "CV score for class threat is 0.610626078391038\n",
      "CV score for class insult is 0.8011986168603299\n",
      "CV score for class identity_hate is 0.6308786847647894\n",
      "Total score is 0.7386658390535308\n",
      "********************\n",
      "Current C:  20\n",
      "CV score for class toxic is 0.9460801945254217\n",
      "CV score for class severe_toxic is 0.7440708401338384\n",
      "CV score for class obscene is 0.6890663649896046\n",
      "CV score for class threat is 0.6060425431466118\n",
      "CV score for class insult is 0.808476394230132\n",
      "CV score for class identity_hate is 0.6388651418436274\n",
      "Total score is 0.7387669131448726\n",
      "********************\n",
      "Current C:  50\n",
      "CV score for class toxic is 0.9711062217989291\n",
      "CV score for class severe_toxic is 0.8225290453728823\n",
      "CV score for class obscene is 0.7259178709442217\n",
      "CV score for class threat is 0.6117446418794955\n",
      "CV score for class insult is 0.7179378933923095\n",
      "CV score for class identity_hate is 0.6295708763915343\n",
      "Total score is 0.7464677582965621\n",
      "********************\n",
      "Current C:  100\n",
      "CV score for class toxic is 0.9405850521707553\n",
      "CV score for class severe_toxic is 0.7479937648832835\n",
      "CV score for class obscene is 0.7597597808077676\n",
      "CV score for class threat is 0.6030537077429138\n",
      "CV score for class insult is 0.7033691995389061\n",
      "CV score for class identity_hate is 0.6328574626280008\n",
      "Total score is 0.7312698279619378\n",
      "********************\n",
      "Current C:  10000\n",
      "CV score for class toxic is 0.9446347394846294\n",
      "CV score for class severe_toxic is 0.7904590556941704\n",
      "CV score for class obscene is 0.8311053954176763\n",
      "CV score for class threat is 0.6137492328515021\n",
      "CV score for class insult is 0.7288590443960885\n",
      "CV score for class identity_hate is 0.6326738523768412\n",
      "Total score is 0.7569135533701513\n",
      "********************\n"
     ]
    }
   ],
   "source": [
    "class_names = ['toxic', 'severe_toxic', 'obscene', 'threat', 'insult', 'identity_hate']\n",
    "C_list = [0.01, 1, 3, 5, 10, 20, 50, 100, 10000]\n",
    "\n",
    "for c in C_list:\n",
    "\n",
    "    scores= []\n",
    "    \n",
    "    print('Current C: ', c)\n",
    "    \n",
    "    for class_name in class_names:\n",
    "\n",
    "        classifier = LogisticRegression(C=c,random_state=7) \n",
    "\n",
    "        y_train = train[class_name]\n",
    "\n",
    "        cv_score = np.mean(cross_val_score(classifier, x_train, y_train, scoring='roc_auc'))\n",
    "\n",
    "        print('CV score for class {} is {}'.format(class_name, cv_score))\n",
    "        scores.append(cv_score)\n",
    "\n",
    "    print('Total score is {}'.format(np.mean(scores)))\n",
    "    print('*' * 20)"
   ]
  }
 ],
 "metadata": {
  "kernelspec": {
   "display_name": "Python 3",
   "language": "python",
   "name": "python3"
  },
  "language_info": {
   "codemirror_mode": {
    "name": "ipython",
    "version": 3
   },
   "file_extension": ".py",
   "mimetype": "text/x-python",
   "name": "python",
   "nbconvert_exporter": "python",
   "pygments_lexer": "ipython3",
   "version": "3.5.3"
  }
 },
 "nbformat": 4,
 "nbformat_minor": 2
}
