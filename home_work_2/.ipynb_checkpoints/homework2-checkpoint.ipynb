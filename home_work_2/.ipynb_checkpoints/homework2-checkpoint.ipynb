{
 "cells": [
  {
   "cell_type": "code",
   "execution_count": 1,
   "metadata": {},
   "outputs": [],
   "source": [
    "import numpy as np\n",
    "import pandas as pd\n",
    "import re\n",
    "\n",
    "from collections import Counter\n",
    "from sklearn.feature_extraction.text import TfidfVectorizer, CountVectorizer\n",
    "from sklearn.linear_model import LogisticRegression\n",
    "from sklearn.model_selection import cross_val_score"
   ]
  },
  {
   "cell_type": "code",
   "execution_count": 2,
   "metadata": {},
   "outputs": [],
   "source": [
    "train = pd.read_csv('train.csv')\n",
    "test = pd.read_csv('test.csv')\n",
    "sample_submission = pd.read_csv('sample_submission.csv')"
   ]
  },
  {
   "cell_type": "code",
   "execution_count": 3,
   "metadata": {},
   "outputs": [
    {
     "data": {
      "text/html": [
       "<div>\n",
       "<style scoped>\n",
       "    .dataframe tbody tr th:only-of-type {\n",
       "        vertical-align: middle;\n",
       "    }\n",
       "\n",
       "    .dataframe tbody tr th {\n",
       "        vertical-align: top;\n",
       "    }\n",
       "\n",
       "    .dataframe thead th {\n",
       "        text-align: right;\n",
       "    }\n",
       "</style>\n",
       "<table border=\"1\" class=\"dataframe\">\n",
       "  <thead>\n",
       "    <tr style=\"text-align: right;\">\n",
       "      <th></th>\n",
       "      <th>id</th>\n",
       "      <th>comment_text</th>\n",
       "    </tr>\n",
       "  </thead>\n",
       "  <tbody>\n",
       "    <tr>\n",
       "      <th>2222</th>\n",
       "      <td>03d5d2a93c3d79be</td>\n",
       "      <td>:And a primary of 51%... holy crap...</td>\n",
       "    </tr>\n",
       "    <tr>\n",
       "      <th>13023</th>\n",
       "      <td>15efe3b20c82a6d1</td>\n",
       "      <td>\" \\n\\n  \\n [ Start new discussion] or e-mail m...</td>\n",
       "    </tr>\n",
       "    <tr>\n",
       "      <th>38265</th>\n",
       "      <td>3f84928e65b60ac4</td>\n",
       "      <td>:then update it, you friggin dumb bastard</td>\n",
       "    </tr>\n",
       "    <tr>\n",
       "      <th>46024</th>\n",
       "      <td>4c5a66d49da7be4c</td>\n",
       "      <td>, 3 May 2013 (UTC) \\n :::So you accuse me of u...</td>\n",
       "    </tr>\n",
       "    <tr>\n",
       "      <th>127306</th>\n",
       "      <td>d4b722c99ca63467</td>\n",
       "      <td>https://www.facebook.com/simon.hassan007 \\n ht...</td>\n",
       "    </tr>\n",
       "    <tr>\n",
       "      <th>128484</th>\n",
       "      <td>d6bf9a0cd7036bf0</td>\n",
       "      <td>== Xtian punk == \\n\\n Just to let you know tha...</td>\n",
       "    </tr>\n",
       "    <tr>\n",
       "      <th>128526</th>\n",
       "      <td>d6cc4e971325058d</td>\n",
       "      <td>\" If Scooter20 wants to launch an agency's not...</td>\n",
       "    </tr>\n",
       "    <tr>\n",
       "      <th>47970</th>\n",
       "      <td>4f9ff4672f315e7a</td>\n",
       "      <td>I am glad my photographs are of some use.</td>\n",
       "    </tr>\n",
       "    <tr>\n",
       "      <th>142792</th>\n",
       "      <td>eeaf7add460905bd</td>\n",
       "      <td>\" \\n :::::As per the sources I posted above, t...</td>\n",
       "    </tr>\n",
       "    <tr>\n",
       "      <th>140021</th>\n",
       "      <td>ea175763ccfd0d82</td>\n",
       "      <td>Its the historic John Bremond, Jr. home.  It c...</td>\n",
       "    </tr>\n",
       "  </tbody>\n",
       "</table>\n",
       "</div>"
      ],
      "text/plain": [
       "                      id                                       comment_text\n",
       "2222    03d5d2a93c3d79be              :And a primary of 51%... holy crap...\n",
       "13023   15efe3b20c82a6d1  \" \\n\\n  \\n [ Start new discussion] or e-mail m...\n",
       "38265   3f84928e65b60ac4          :then update it, you friggin dumb bastard\n",
       "46024   4c5a66d49da7be4c  , 3 May 2013 (UTC) \\n :::So you accuse me of u...\n",
       "127306  d4b722c99ca63467  https://www.facebook.com/simon.hassan007 \\n ht...\n",
       "128484  d6bf9a0cd7036bf0  == Xtian punk == \\n\\n Just to let you know tha...\n",
       "128526  d6cc4e971325058d  \" If Scooter20 wants to launch an agency's not...\n",
       "47970   4f9ff4672f315e7a          I am glad my photographs are of some use.\n",
       "142792  eeaf7add460905bd  \" \\n :::::As per the sources I posted above, t...\n",
       "140021  ea175763ccfd0d82  Its the historic John Bremond, Jr. home.  It c..."
      ]
     },
     "execution_count": 3,
     "metadata": {},
     "output_type": "execute_result"
    }
   ],
   "source": [
    "test.sample(10)"
   ]
  },
  {
   "cell_type": "markdown",
   "metadata": {},
   "source": [
    "### The most common word"
   ]
  },
  {
   "cell_type": "code",
   "execution_count": 4,
   "metadata": {},
   "outputs": [],
   "source": [
    "def get_words(text):\n",
    "    result = re.findall(r\"[a-z]+'?[a-z]+\", text.lower())\n",
    "\n",
    "    return result"
   ]
  },
  {
   "cell_type": "code",
   "execution_count": 5,
   "metadata": {},
   "outputs": [],
   "source": [
    "train_text = train['comment_text'].apply(get_words)\n",
    "\n",
    "test_text = test['comment_text'].apply(get_words)\n",
    "\n",
    "all_text = pd.concat([train_text, test_text])"
   ]
  },
  {
   "cell_type": "code",
   "execution_count": 6,
   "metadata": {},
   "outputs": [],
   "source": [
    "total = list()\n",
    "for line in all_text:\n",
    "    total.extend(line)"
   ]
  },
  {
   "cell_type": "code",
   "execution_count": 7,
   "metadata": {},
   "outputs": [
    {
     "data": {
      "text/plain": [
       "[('the', 919035), ('to', 539236), ('of', 410839)]"
      ]
     },
     "execution_count": 7,
     "metadata": {},
     "output_type": "execute_result"
    }
   ],
   "source": [
    "count = Counter(total)\n",
    "count.most_common(3)"
   ]
  },
  {
   "cell_type": "markdown",
   "metadata": {},
   "source": [
    "Какое слово встречается чаще всего в объединенном train и test датасете? - **'the'** "
   ]
  },
  {
   "cell_type": "markdown",
   "metadata": {},
   "source": [
    "### Увеличение параметра C в Logistic regression увеличивает или уменьшает степень регуляризации?"
   ]
  },
  {
   "cell_type": "markdown",
   "metadata": {},
   "source": [
    "Увеличение параметра C в Logistic regression увеличивает или уменьшает степень регуляризации?\n",
    "\n",
    "**C** – обратный коэффициент регуляризации (тот самый C в sklearn-реализации LogisticRegression)\n",
    "\n",
    "Ответ: **Уменьшает**"
   ]
  },
  {
   "cell_type": "markdown",
   "metadata": {},
   "source": [
    "### Crossvalidation"
   ]
  },
  {
   "cell_type": "code",
   "execution_count": 8,
   "metadata": {},
   "outputs": [],
   "source": [
    "class_names = ['toxic', 'severe_toxic', 'obscene', 'threat', 'insult', 'identity_hate']"
   ]
  },
  {
   "cell_type": "code",
   "execution_count": 9,
   "metadata": {},
   "outputs": [],
   "source": [
    "train_text = train_text.apply(lambda text: ' '.join(text))\n",
    "\n",
    "test_text = test_text.apply(lambda text: ' '.join(text))\n",
    "\n",
    "all_text = pd.concat([train_text, test_text])"
   ]
  },
  {
   "cell_type": "code",
   "execution_count": 10,
   "metadata": {},
   "outputs": [],
   "source": [
    "word_vectorizer = TfidfVectorizer() # TfidfVectorizer или CountVectorizer\n",
    "\n",
    "word_vectorizer.fit(all_text)\n",
    "train_word_features = word_vectorizer.transform(train_text)\n",
    "test_word_features = word_vectorizer.transform(test_text)"
   ]
  },
  {
   "cell_type": "code",
   "execution_count": 11,
   "metadata": {
    "scrolled": true
   },
   "outputs": [
    {
     "name": "stdout",
     "output_type": "stream",
     "text": [
      "CV score for class toxic is 0.9723319230256943\n",
      "CV score for class severe_toxic is 0.98297538728988\n",
      "CV score for class obscene is 0.9843529356988294\n",
      "CV score for class threat is 0.9862611762434984\n",
      "CV score for class insult is 0.9763498224793973\n",
      "CV score for class identity_hate is 0.9734333948249292\n",
      "Total score is 0.9792841065937047\n"
     ]
    }
   ],
   "source": [
    "C = 3.2\n",
    "\n",
    "classifier = LogisticRegression(C=C,random_state=7) \n",
    "\n",
    "scores= []\n",
    "\n",
    "for class_name in class_names:\n",
    "    \n",
    "    train_target = train[class_name]\n",
    "\n",
    "    cv_score = np.mean(cross_val_score(classifier, train_word_features, train_target, scoring='roc_auc'))\n",
    "\n",
    "    print('CV score for class {} is {}'.format(class_name, cv_score))\n",
    "    scores.append(cv_score)\n",
    "    \n",
    "print('Total score is {}'.format(np.mean(scores)))\n",
    "\n"
   ]
  },
  {
   "cell_type": "markdown",
   "metadata": {},
   "source": [
    "\n",
    "```\n",
    "C = 3.2\n",
    "word_vectorizer = TfidfVectorizer()\n",
    "Total score is 0.979082758429653\n",
    "```"
   ]
  },
  {
   "cell_type": "markdown",
   "metadata": {},
   "source": [
    "### Create submission for Kaggle"
   ]
  },
  {
   "cell_type": "code",
   "execution_count": 12,
   "metadata": {},
   "outputs": [],
   "source": [
    "submission = pd.DataFrame.from_dict({'id': test['id']})"
   ]
  },
  {
   "cell_type": "code",
   "execution_count": 13,
   "metadata": {},
   "outputs": [],
   "source": [
    "for class_name in class_names:  \n",
    "    \n",
    "    train_target = train[class_name]\n",
    "    \n",
    "    classifier = LogisticRegression(C=C,random_state=7)\n",
    "      \n",
    "    classifier.fit(train_word_features, train_target)\n",
    "    \n",
    "    submission[class_name] = classifier.predict_proba(test_word_features)[:, 1]"
   ]
  },
  {
   "cell_type": "code",
   "execution_count": 14,
   "metadata": {},
   "outputs": [],
   "source": [
    "submission.to_csv('submission_new.csv', index=False)"
   ]
  },
  {
   "cell_type": "code",
   "execution_count": 15,
   "metadata": {},
   "outputs": [
    {
     "data": {
      "text/html": [
       "<div>\n",
       "<style scoped>\n",
       "    .dataframe tbody tr th:only-of-type {\n",
       "        vertical-align: middle;\n",
       "    }\n",
       "\n",
       "    .dataframe tbody tr th {\n",
       "        vertical-align: top;\n",
       "    }\n",
       "\n",
       "    .dataframe thead th {\n",
       "        text-align: right;\n",
       "    }\n",
       "</style>\n",
       "<table border=\"1\" class=\"dataframe\">\n",
       "  <thead>\n",
       "    <tr style=\"text-align: right;\">\n",
       "      <th></th>\n",
       "      <th>id</th>\n",
       "      <th>toxic</th>\n",
       "      <th>severe_toxic</th>\n",
       "      <th>obscene</th>\n",
       "      <th>threat</th>\n",
       "      <th>insult</th>\n",
       "      <th>identity_hate</th>\n",
       "    </tr>\n",
       "  </thead>\n",
       "  <tbody>\n",
       "    <tr>\n",
       "      <th>0</th>\n",
       "      <td>00001cee341fdb12</td>\n",
       "      <td>0.999519</td>\n",
       "      <td>0.183758</td>\n",
       "      <td>0.998195</td>\n",
       "      <td>0.072261</td>\n",
       "      <td>0.962329</td>\n",
       "      <td>0.301808</td>\n",
       "    </tr>\n",
       "    <tr>\n",
       "      <th>1</th>\n",
       "      <td>0000247867823ef7</td>\n",
       "      <td>0.002827</td>\n",
       "      <td>0.000982</td>\n",
       "      <td>0.001422</td>\n",
       "      <td>0.000164</td>\n",
       "      <td>0.003538</td>\n",
       "      <td>0.002218</td>\n",
       "    </tr>\n",
       "    <tr>\n",
       "      <th>2</th>\n",
       "      <td>00013b17ad220c46</td>\n",
       "      <td>0.030333</td>\n",
       "      <td>0.004320</td>\n",
       "      <td>0.012821</td>\n",
       "      <td>0.001170</td>\n",
       "      <td>0.015787</td>\n",
       "      <td>0.003999</td>\n",
       "    </tr>\n",
       "    <tr>\n",
       "      <th>3</th>\n",
       "      <td>00017563c3f7919a</td>\n",
       "      <td>0.001273</td>\n",
       "      <td>0.001621</td>\n",
       "      <td>0.001600</td>\n",
       "      <td>0.000495</td>\n",
       "      <td>0.002601</td>\n",
       "      <td>0.000351</td>\n",
       "    </tr>\n",
       "    <tr>\n",
       "      <th>4</th>\n",
       "      <td>00017695ad8997eb</td>\n",
       "      <td>0.016390</td>\n",
       "      <td>0.002586</td>\n",
       "      <td>0.005237</td>\n",
       "      <td>0.001330</td>\n",
       "      <td>0.006241</td>\n",
       "      <td>0.001918</td>\n",
       "    </tr>\n",
       "  </tbody>\n",
       "</table>\n",
       "</div>"
      ],
      "text/plain": [
       "                 id     toxic  severe_toxic   obscene    threat    insult  \\\n",
       "0  00001cee341fdb12  0.999519      0.183758  0.998195  0.072261  0.962329   \n",
       "1  0000247867823ef7  0.002827      0.000982  0.001422  0.000164  0.003538   \n",
       "2  00013b17ad220c46  0.030333      0.004320  0.012821  0.001170  0.015787   \n",
       "3  00017563c3f7919a  0.001273      0.001621  0.001600  0.000495  0.002601   \n",
       "4  00017695ad8997eb  0.016390      0.002586  0.005237  0.001330  0.006241   \n",
       "\n",
       "   identity_hate  \n",
       "0       0.301808  \n",
       "1       0.002218  \n",
       "2       0.003999  \n",
       "3       0.000351  \n",
       "4       0.001918  "
      ]
     },
     "execution_count": 15,
     "metadata": {},
     "output_type": "execute_result"
    }
   ],
   "source": [
    "submission.head()"
   ]
  }
 ],
 "metadata": {
  "kernelspec": {
   "display_name": "Python 3",
   "language": "python",
   "name": "python3"
  },
  "language_info": {
   "codemirror_mode": {
    "name": "ipython",
    "version": 3
   },
   "file_extension": ".py",
   "mimetype": "text/x-python",
   "name": "python",
   "nbconvert_exporter": "python",
   "pygments_lexer": "ipython3",
   "version": "3.5.3"
  }
 },
 "nbformat": 4,
 "nbformat_minor": 2
}
