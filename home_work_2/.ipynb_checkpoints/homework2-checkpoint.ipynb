{
 "cells": [
  {
   "cell_type": "code",
   "execution_count": 1,
   "metadata": {},
   "outputs": [],
   "source": [
    "import numpy as np\n",
    "import pandas as pd\n",
    "import re\n",
    "\n",
    "from collections import Counter\n",
    "from sklearn.feature_extraction.text import TfidfVectorizer, CountVectorizer\n",
    "from sklearn.linear_model import LogisticRegression\n",
    "from sklearn.model_selection import cross_val_score"
   ]
  },
  {
   "cell_type": "code",
   "execution_count": 62,
   "metadata": {},
   "outputs": [],
   "source": [
    "train = pd.read_csv('train.csv')\n",
    "test = pd.read_csv('test.csv')\n",
    "sample_submission = pd.read_csv('sample_submission.csv')"
   ]
  },
  {
   "cell_type": "code",
   "execution_count": 75,
   "metadata": {},
   "outputs": [
    {
     "data": {
      "text/html": [
       "<div>\n",
       "<style scoped>\n",
       "    .dataframe tbody tr th:only-of-type {\n",
       "        vertical-align: middle;\n",
       "    }\n",
       "\n",
       "    .dataframe tbody tr th {\n",
       "        vertical-align: top;\n",
       "    }\n",
       "\n",
       "    .dataframe thead th {\n",
       "        text-align: right;\n",
       "    }\n",
       "</style>\n",
       "<table border=\"1\" class=\"dataframe\">\n",
       "  <thead>\n",
       "    <tr style=\"text-align: right;\">\n",
       "      <th></th>\n",
       "      <th>id</th>\n",
       "      <th>comment_text</th>\n",
       "    </tr>\n",
       "  </thead>\n",
       "  <tbody>\n",
       "    <tr>\n",
       "      <th>22908</th>\n",
       "      <td>2638ed7a68d3b934</td>\n",
       "      <td>\" \\n\\n ==Happy {{subst:PAGENAME}}'s Day!== \\n ...</td>\n",
       "    </tr>\n",
       "    <tr>\n",
       "      <th>92121</th>\n",
       "      <td>998f79cf3fa8090e</td>\n",
       "      <td>==See also page== \\n\\n Yes, I could make one, ...</td>\n",
       "    </tr>\n",
       "    <tr>\n",
       "      <th>137876</th>\n",
       "      <td>e67bc5c6d595e738</td>\n",
       "      <td>== UNACADEMICS DESCIDING PLANETARY FACTS == \\n...</td>\n",
       "    </tr>\n",
       "    <tr>\n",
       "      <th>38302</th>\n",
       "      <td>3f9332a7704a2bc1</td>\n",
       "      <td>ﻣﺤﻤﺪ \\n ﻣﺼﻄﻔﯽ ﺻﮧ ( ﮐﮭﺎﻧﮯ ﮐﺎ \\n ﮔﺮﺍ ﮨﻮﺍ ﭨﮑﮍﺍ ﺩﺳ...</td>\n",
       "    </tr>\n",
       "    <tr>\n",
       "      <th>7460</th>\n",
       "      <td>0c88fcd6070d9f02</td>\n",
       "      <td>This conversation has turned out rather intere...</td>\n",
       "    </tr>\n",
       "    <tr>\n",
       "      <th>122827</th>\n",
       "      <td>cd1a9cd834bd87f8</td>\n",
       "      <td>\" \\n\\n ==Whiteboys==   \\n  New International E...</td>\n",
       "    </tr>\n",
       "    <tr>\n",
       "      <th>57296</th>\n",
       "      <td>5f53c7256cf3e7c6</td>\n",
       "      <td>\" \\n :::You say that the word \"\"terminology\"\" ...</td>\n",
       "    </tr>\n",
       "    <tr>\n",
       "      <th>64085</th>\n",
       "      <td>6ac3ae4328c250c3</td>\n",
       "      <td>== Revolutionary == \\n The International Socia...</td>\n",
       "    </tr>\n",
       "    <tr>\n",
       "      <th>41008</th>\n",
       "      <td>4416ab74d30c3e97</td>\n",
       "      <td>\" \\n\\n The reason I didn't respond to your ini...</td>\n",
       "    </tr>\n",
       "    <tr>\n",
       "      <th>56257</th>\n",
       "      <td>5d92cc292ff530b3</td>\n",
       "      <td>\" \\n ::::::::WP:SYNTH is about as basic as it ...</td>\n",
       "    </tr>\n",
       "  </tbody>\n",
       "</table>\n",
       "</div>"
      ],
      "text/plain": [
       "                      id                                       comment_text\n",
       "22908   2638ed7a68d3b934  \" \\n\\n ==Happy {{subst:PAGENAME}}'s Day!== \\n ...\n",
       "92121   998f79cf3fa8090e  ==See also page== \\n\\n Yes, I could make one, ...\n",
       "137876  e67bc5c6d595e738  == UNACADEMICS DESCIDING PLANETARY FACTS == \\n...\n",
       "38302   3f9332a7704a2bc1  ﻣﺤﻤﺪ \\n ﻣﺼﻄﻔﯽ ﺻﮧ ( ﮐﮭﺎﻧﮯ ﮐﺎ \\n ﮔﺮﺍ ﮨﻮﺍ ﭨﮑﮍﺍ ﺩﺳ...\n",
       "7460    0c88fcd6070d9f02  This conversation has turned out rather intere...\n",
       "122827  cd1a9cd834bd87f8  \" \\n\\n ==Whiteboys==   \\n  New International E...\n",
       "57296   5f53c7256cf3e7c6  \" \\n :::You say that the word \"\"terminology\"\" ...\n",
       "64085   6ac3ae4328c250c3  == Revolutionary == \\n The International Socia...\n",
       "41008   4416ab74d30c3e97  \" \\n\\n The reason I didn't respond to your ini...\n",
       "56257   5d92cc292ff530b3  \" \\n ::::::::WP:SYNTH is about as basic as it ..."
      ]
     },
     "execution_count": 75,
     "metadata": {},
     "output_type": "execute_result"
    }
   ],
   "source": [
    "test.sample(10)"
   ]
  },
  {
   "cell_type": "markdown",
   "metadata": {},
   "source": [
    "### The most common word"
   ]
  },
  {
   "cell_type": "code",
   "execution_count": null,
   "metadata": {},
   "outputs": [],
   "source": [
    "train_text = train['comment_text']\n",
    "test_text = test['comment_text']\n",
    "all_text = pd.concat([train_text, test_text], ignore_index=True)"
   ]
  },
  {
   "cell_type": "code",
   "execution_count": 4,
   "metadata": {},
   "outputs": [],
   "source": [
    "def get_words(text):\n",
    "    result = re.split(r'\\s+|\\.', text.lower())\n",
    "    return result"
   ]
  },
  {
   "cell_type": "code",
   "execution_count": 5,
   "metadata": {},
   "outputs": [],
   "source": [
    "total = list()\n",
    "for line in all_text:\n",
    "    total.extend(get_words(line))"
   ]
  },
  {
   "cell_type": "code",
   "execution_count": 10,
   "metadata": {},
   "outputs": [
    {
     "data": {
      "text/plain": [
       "[('', 1097088), ('the', 902873), ('to', 534076)]"
      ]
     },
     "execution_count": 10,
     "metadata": {},
     "output_type": "execute_result"
    }
   ],
   "source": [
    "count = Counter(total)\n",
    "count.most_common(3)"
   ]
  },
  {
   "cell_type": "markdown",
   "metadata": {},
   "source": [
    "Какое слово встречается чаще всего в объединенном train и test датасете? - **'the'** "
   ]
  },
  {
   "cell_type": "markdown",
   "metadata": {},
   "source": [
    "### Увеличение параметра C в Logistic regression увеличивает или уменьшает степень регуляризации?"
   ]
  },
  {
   "cell_type": "markdown",
   "metadata": {},
   "source": [
    "Увеличение параметра C в Logistic regression увеличивает или уменьшает степень регуляризации?\n",
    "\n",
    "**C** – обратный коэффициент регуляризации (тот самый C в sklearn-реализации LogisticRegression)\n",
    "\n",
    "Ответ: **Уменьшает**"
   ]
  },
  {
   "cell_type": "markdown",
   "metadata": {},
   "source": [
    "### Crossvalidation"
   ]
  },
  {
   "cell_type": "code",
   "execution_count": 14,
   "metadata": {},
   "outputs": [],
   "source": [
    "class_names = ['toxic', 'severe_toxic', 'obscene', 'threat', 'insult', 'identity_hate']\n",
    "\n",
    "train_text = train['comment_text']\n",
    "test_text = test['comment_text']\n",
    "all_text = pd.concat([train_text, test_text])"
   ]
  },
  {
   "cell_type": "code",
   "execution_count": 25,
   "metadata": {},
   "outputs": [],
   "source": [
    "word_vectorizer = TfidfVectorizer() # TfidfVectorizer или CountVectorizer\n",
    "\n",
    "word_vectorizer.fit(all_text)\n",
    "train_word_features = word_vectorizer.transform(train_text)\n",
    "test_word_features = word_vectorizer.transform(test_text)"
   ]
  },
  {
   "cell_type": "code",
   "execution_count": 60,
   "metadata": {
    "scrolled": true
   },
   "outputs": [
    {
     "name": "stdout",
     "output_type": "stream",
     "text": [
      "CV score for class toxic is 0.97193119880727\n",
      "CV score for class severe_toxic is 0.9830390499432613\n",
      "CV score for class obscene is 0.9840424143183912\n",
      "CV score for class threat is 0.9859612844077553\n",
      "CV score for class insult is 0.9760496985195051\n",
      "CV score for class identity_hate is 0.9734729045817354\n",
      "Total score is 0.979082758429653\n"
     ]
    }
   ],
   "source": [
    "C = 3.2\n",
    "\n",
    "classifier = LogisticRegression(C=C,random_state=7) \n",
    "\n",
    "scores= []\n",
    "\n",
    "for class_name in class_names:\n",
    "    \n",
    "    train_target = train[class_name]\n",
    "\n",
    "    cv_score = np.mean(cross_val_score(classifier, train_word_features, train_target, scoring='roc_auc'))\n",
    "\n",
    "    print('CV score for class {} is {}'.format(class_name, cv_score))\n",
    "    scores.append(cv_score)\n",
    "    \n",
    "print('Total score is {}'.format(np.mean(scores)))\n",
    "\n"
   ]
  },
  {
   "cell_type": "markdown",
   "metadata": {},
   "source": [
    "\n",
    "```\n",
    "C = 3.2\n",
    "word_vectorizer = TfidfVectorizer()\n",
    "Total score is 0.979082758429653\n",
    "```"
   ]
  },
  {
   "cell_type": "code",
   "execution_count": 82,
   "metadata": {},
   "outputs": [],
   "source": [
    "submission = pd.DataFrame.from_dict({'id': test['id']})"
   ]
  },
  {
   "cell_type": "code",
   "execution_count": 83,
   "metadata": {},
   "outputs": [],
   "source": [
    "for class_name in class_names:  \n",
    "    \n",
    "    train_target = train[class_name]\n",
    "    \n",
    "    classifier = LogisticRegression(C=C,random_state=7)\n",
    "      \n",
    "    classifier.fit(train_word_features, train_target)\n",
    "    \n",
    "    submission[class_name] = classifier.predict_proba(test_word_features)[:, 1]"
   ]
  },
  {
   "cell_type": "code",
   "execution_count": 84,
   "metadata": {},
   "outputs": [],
   "source": [
    "submission.to_csv('submission.csv')"
   ]
  }
 ],
 "metadata": {
  "kernelspec": {
   "display_name": "Python 3",
   "language": "python",
   "name": "python3"
  },
  "language_info": {
   "codemirror_mode": {
    "name": "ipython",
    "version": 3
   },
   "file_extension": ".py",
   "mimetype": "text/x-python",
   "name": "python",
   "nbconvert_exporter": "python",
   "pygments_lexer": "ipython3",
   "version": "3.5.3"
  }
 },
 "nbformat": 4,
 "nbformat_minor": 2
}
