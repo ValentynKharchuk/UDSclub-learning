{
 "cells": [
  {
   "cell_type": "code",
   "execution_count": 1,
   "metadata": {},
   "outputs": [],
   "source": [
    "import numpy as np\n",
    "import pandas as pd\n",
    "import re\n",
    "import string\n",
    "\n",
    "from scipy.sparse import csr_matrix, hstack\n",
    "from collections import Counter\n",
    "from sklearn.feature_extraction.text import TfidfVectorizer, CountVectorizer\n",
    "from sklearn.linear_model import LogisticRegression\n",
    "from sklearn.model_selection import cross_val_score"
   ]
  },
  {
   "cell_type": "code",
   "execution_count": 2,
   "metadata": {},
   "outputs": [],
   "source": [
    "train = pd.read_csv('train.csv')\n",
    "test = pd.read_csv('test.csv')\n",
    "sample_submission = pd.read_csv('sample_submission.csv')"
   ]
  },
  {
   "cell_type": "code",
   "execution_count": 3,
   "metadata": {},
   "outputs": [
    {
     "data": {
      "text/html": [
       "<div>\n",
       "<style scoped>\n",
       "    .dataframe tbody tr th:only-of-type {\n",
       "        vertical-align: middle;\n",
       "    }\n",
       "\n",
       "    .dataframe tbody tr th {\n",
       "        vertical-align: top;\n",
       "    }\n",
       "\n",
       "    .dataframe thead th {\n",
       "        text-align: right;\n",
       "    }\n",
       "</style>\n",
       "<table border=\"1\" class=\"dataframe\">\n",
       "  <thead>\n",
       "    <tr style=\"text-align: right;\">\n",
       "      <th></th>\n",
       "      <th>id</th>\n",
       "      <th>comment_text</th>\n",
       "    </tr>\n",
       "  </thead>\n",
       "  <tbody>\n",
       "    <tr>\n",
       "      <th>78227</th>\n",
       "      <td>827e7225f8f5ed3f</td>\n",
       "      <td>::: BobNesh just violated the 3RR rule as well...</td>\n",
       "    </tr>\n",
       "    <tr>\n",
       "      <th>87199</th>\n",
       "      <td>9179a512756a8d66</td>\n",
       "      <td>== Your revision of my edit Bulb (photography)...</td>\n",
       "    </tr>\n",
       "    <tr>\n",
       "      <th>53349</th>\n",
       "      <td>58a87b2b991cca65</td>\n",
       "      <td>Diff attempt! \\n :http://en.wikipedia.org/w/in...</td>\n",
       "    </tr>\n",
       "    <tr>\n",
       "      <th>104750</th>\n",
       "      <td>aee2127ab72af158</td>\n",
       "      <td>see it, when I download the article. With your...</td>\n",
       "    </tr>\n",
       "    <tr>\n",
       "      <th>21421</th>\n",
       "      <td>23d2a00622af6a4f</td>\n",
       "      <td>:::Your screenshot is misleading and not needed.</td>\n",
       "    </tr>\n",
       "    <tr>\n",
       "      <th>81824</th>\n",
       "      <td>88906cfa00fb0f6f</td>\n",
       "      <td>:That's a great idea. You'll see that we've do...</td>\n",
       "    </tr>\n",
       "    <tr>\n",
       "      <th>50283</th>\n",
       "      <td>5377ef0348de0720</td>\n",
       "      <td>== WikiCup 2014 == \\n\\n Hi, if you haven't alr...</td>\n",
       "    </tr>\n",
       "    <tr>\n",
       "      <th>18971</th>\n",
       "      <td>1fe5bc680b869aa5</td>\n",
       "      <td>have an indirect object</td>\n",
       "    </tr>\n",
       "    <tr>\n",
       "      <th>114468</th>\n",
       "      <td>bf0794b434846d10</td>\n",
       "      <td>:Holy crap, I can't believe so many of those a...</td>\n",
       "    </tr>\n",
       "    <tr>\n",
       "      <th>138110</th>\n",
       "      <td>e6df6794382b42fd</td>\n",
       "      <td>-matt im from ireland</td>\n",
       "    </tr>\n",
       "  </tbody>\n",
       "</table>\n",
       "</div>"
      ],
      "text/plain": [
       "                      id                                       comment_text\n",
       "78227   827e7225f8f5ed3f  ::: BobNesh just violated the 3RR rule as well...\n",
       "87199   9179a512756a8d66  == Your revision of my edit Bulb (photography)...\n",
       "53349   58a87b2b991cca65  Diff attempt! \\n :http://en.wikipedia.org/w/in...\n",
       "104750  aee2127ab72af158  see it, when I download the article. With your...\n",
       "21421   23d2a00622af6a4f   :::Your screenshot is misleading and not needed.\n",
       "81824   88906cfa00fb0f6f  :That's a great idea. You'll see that we've do...\n",
       "50283   5377ef0348de0720  == WikiCup 2014 == \\n\\n Hi, if you haven't alr...\n",
       "18971   1fe5bc680b869aa5                            have an indirect object\n",
       "114468  bf0794b434846d10  :Holy crap, I can't believe so many of those a...\n",
       "138110  e6df6794382b42fd                              -matt im from ireland"
      ]
     },
     "execution_count": 3,
     "metadata": {},
     "output_type": "execute_result"
    }
   ],
   "source": [
    "test.sample(10)"
   ]
  },
  {
   "cell_type": "markdown",
   "metadata": {},
   "source": [
    "### The most common word"
   ]
  },
  {
   "cell_type": "code",
   "execution_count": 4,
   "metadata": {},
   "outputs": [],
   "source": [
    "def get_words(text):\n",
    "    \n",
    "    result = re.findall(r\"[a-z]+'?[a-z]+\", text.lower())\n",
    "    \n",
    "    return result"
   ]
  },
  {
   "cell_type": "code",
   "execution_count": 5,
   "metadata": {},
   "outputs": [],
   "source": [
    "train_text = train['comment_text'].apply(get_words)\n",
    "\n",
    "test_text = test['comment_text'].apply(get_words)\n",
    "\n",
    "all_text = pd.concat([train_text, test_text])"
   ]
  },
  {
   "cell_type": "code",
   "execution_count": 6,
   "metadata": {},
   "outputs": [],
   "source": [
    "total = list()\n",
    "for line in all_text:\n",
    "    total.extend(line)"
   ]
  },
  {
   "cell_type": "code",
   "execution_count": 7,
   "metadata": {},
   "outputs": [
    {
     "data": {
      "text/plain": [
       "[('the', 919035), ('to', 539236), ('of', 410839)]"
      ]
     },
     "execution_count": 7,
     "metadata": {},
     "output_type": "execute_result"
    }
   ],
   "source": [
    "count = Counter(total)\n",
    "count.most_common(3)"
   ]
  },
  {
   "cell_type": "markdown",
   "metadata": {},
   "source": [
    "Какое слово встречается чаще всего в объединенном train и test датасете? - **'the'** "
   ]
  },
  {
   "cell_type": "markdown",
   "metadata": {},
   "source": [
    "### Увеличение параметра C в Logistic regression увеличивает или уменьшает степень регуляризации?"
   ]
  },
  {
   "cell_type": "markdown",
   "metadata": {},
   "source": [
    "Увеличение параметра C в Logistic regression увеличивает или уменьшает степень регуляризации?\n",
    "\n",
    "**C** – обратный коэффициент регуляризации (тот самый C в sklearn-реализации LogisticRegression)\n",
    "\n",
    "Ответ: **Уменьшает**"
   ]
  },
  {
   "cell_type": "markdown",
   "metadata": {},
   "source": [
    "### Crossvalidation"
   ]
  },
  {
   "cell_type": "code",
   "execution_count": 8,
   "metadata": {},
   "outputs": [],
   "source": [
    "train_text = train_text.apply(lambda text: ' '.join(text))\n",
    "\n",
    "test_text = test_text.apply(lambda text: ' '.join(text))\n",
    "\n",
    "all_text = pd.concat([train_text, test_text])"
   ]
  },
  {
   "cell_type": "code",
   "execution_count": 9,
   "metadata": {},
   "outputs": [],
   "source": [
    "# TfidfVectorizer или CountVectorizer\n",
    "word_vectorizer = TfidfVectorizer() \n",
    "\n",
    "word_vectorizer.fit(all_text)\n",
    "train_word_features = word_vectorizer.transform(train_text)\n",
    "test_word_features = word_vectorizer.transform(test_text)"
   ]
  },
  {
   "cell_type": "code",
   "execution_count": 10,
   "metadata": {
    "scrolled": true
   },
   "outputs": [
    {
     "name": "stdout",
     "output_type": "stream",
     "text": [
      "CV score for class toxic is 0.9724238498388088\n",
      "CV score for class severe_toxic is 0.9833079735989355\n",
      "CV score for class obscene is 0.9843418455895124\n",
      "CV score for class threat is 0.98638587067384\n",
      "CV score for class insult is 0.9763643664586121\n",
      "CV score for class identity_hate is 0.973462305990869\n",
      "Total score is 0.9793810353584296\n"
     ]
    }
   ],
   "source": [
    "class_names = ['toxic', 'severe_toxic', 'obscene', 'threat', 'insult', 'identity_hate']\n",
    "class_c = [4, 2, 3, 4, 3, 3]\n",
    "\n",
    "scores= []\n",
    "\n",
    "for class_name, C in zip(class_names, class_c):\n",
    "    \n",
    "    classifier = LogisticRegression(C=C,random_state=7) \n",
    "\n",
    "    train_target = train[class_name]\n",
    "\n",
    "    cv_score = np.mean(cross_val_score(classifier, train_word_features, train_target, scoring='roc_auc'))\n",
    "\n",
    "    print('CV score for class {} is {}'.format(class_name, cv_score))\n",
    "    scores.append(cv_score)\n",
    "\n",
    "print('Total score is {}'.format(np.mean(scores)))   "
   ]
  },
  {
   "cell_type": "markdown",
   "metadata": {},
   "source": [
    "\n",
    "Total score is  **0.9793810353584296** \n"
   ]
  },
  {
   "cell_type": "markdown",
   "metadata": {},
   "source": [
    "### Create submission for Kaggle"
   ]
  },
  {
   "cell_type": "code",
   "execution_count": 11,
   "metadata": {},
   "outputs": [],
   "source": [
    "train['clean_comment'] = train_text\n",
    "test['clean_comment'] = test_text"
   ]
  },
  {
   "cell_type": "code",
   "execution_count": 12,
   "metadata": {},
   "outputs": [],
   "source": [
    "#add some features to train and test\n",
    "train['count_sent'] = train[\"comment_text\"].apply(lambda x: len(re.findall(\"\\n\",str(x)))+1)\n",
    "train['count_words'] = train[\"clean_comment\"].apply(lambda x: len(str(x).split()))\n",
    "train['count_unique_words'] = train[\"clean_comment\"].apply(lambda x: len(set(str(x).split())))\n",
    "train['count_letters'] = train[\"clean_comment\"].apply(lambda x: len(str(x)))\n",
    "train[\"count_punctuations\"] = train[\"comment_text\"].apply(lambda x: len([c for c in str(x) if c in string.punctuation]))\n",
    "train[\"count_words_upper\"] = train[\"comment_text\"].apply(lambda x: len([w for w in str(x).split() if w.isupper()]))\n",
    "train[\"count_words_title\"] = train[\"comment_text\"].apply(lambda x: len([w for w in str(x).split() if w.istitle()]))\n",
    "\n",
    "\n",
    "test['count_sent'] = test[\"comment_text\"].apply(lambda x: len(re.findall(\"\\n\",str(x)))+1)\n",
    "test['count_words'] = test[\"clean_comment\"].apply(lambda x: len(str(x).split()))\n",
    "test['count_unique_words'] = test[\"clean_comment\"].apply(lambda x: len(set(str(x).split())))\n",
    "test['count_letters'] = test[\"clean_comment\"].apply(lambda x: len(str(x)))\n",
    "test[\"count_punctuations\"] = test[\"comment_text\"].apply(lambda x: len([c for c in str(x) if c in string.punctuation]))\n",
    "test[\"count_words_upper\"] = test[\"comment_text\"].apply(lambda x: len([w for w in str(x).split() if w.isupper()]))\n",
    "test[\"count_words_title\"] = test[\"comment_text\"].apply(lambda x: len([w for w in str(x).split() if w.istitle()]))"
   ]
  },
  {
   "cell_type": "code",
   "execution_count": 13,
   "metadata": {},
   "outputs": [],
   "source": [
    "features_train = train[train.columns[-7:]]\n",
    "features_test = test[test.columns[-7:]]"
   ]
  },
  {
   "cell_type": "code",
   "execution_count": 14,
   "metadata": {},
   "outputs": [
    {
     "name": "stdout",
     "output_type": "stream",
     "text": [
      "Features_train shape: (159571, 7)\n",
      "Train word features shape: (159571, 286201)\n"
     ]
    }
   ],
   "source": [
    "features_train = csr_matrix(features_train)\n",
    "features_test = csr_matrix(features_test)\n",
    "\n",
    "print('Features_train shape: {}'.format(features_train.shape))\n",
    "print('Train word features shape: {}'.format(train_word_features.shape))"
   ]
  },
  {
   "cell_type": "code",
   "execution_count": 15,
   "metadata": {},
   "outputs": [],
   "source": [
    "x_train = hstack([train_word_features, features_train])\n",
    "\n",
    "x_test = hstack([test_word_features, features_test])"
   ]
  },
  {
   "cell_type": "code",
   "execution_count": 16,
   "metadata": {},
   "outputs": [],
   "source": [
    "submission = pd.DataFrame.from_dict({'id': test['id']})"
   ]
  },
  {
   "cell_type": "code",
   "execution_count": 17,
   "metadata": {},
   "outputs": [],
   "source": [
    "for class_name, C in zip(class_names, class_c):\n",
    "    \n",
    "    y_train = train[class_name]\n",
    "    \n",
    "    classifier = LogisticRegression(C=C,random_state=7)\n",
    "      \n",
    "    classifier.fit(train_word_features, y_train)\n",
    "    \n",
    "    submission[class_name] = classifier.predict_proba(test_word_features)[:, 1]"
   ]
  },
  {
   "cell_type": "code",
   "execution_count": 18,
   "metadata": {},
   "outputs": [],
   "source": [
    "submission.to_csv('submission.csv', index=False)"
   ]
  },
  {
   "cell_type": "code",
   "execution_count": 19,
   "metadata": {},
   "outputs": [
    {
     "data": {
      "text/html": [
       "<div>\n",
       "<style scoped>\n",
       "    .dataframe tbody tr th:only-of-type {\n",
       "        vertical-align: middle;\n",
       "    }\n",
       "\n",
       "    .dataframe tbody tr th {\n",
       "        vertical-align: top;\n",
       "    }\n",
       "\n",
       "    .dataframe thead th {\n",
       "        text-align: right;\n",
       "    }\n",
       "</style>\n",
       "<table border=\"1\" class=\"dataframe\">\n",
       "  <thead>\n",
       "    <tr style=\"text-align: right;\">\n",
       "      <th></th>\n",
       "      <th>id</th>\n",
       "      <th>toxic</th>\n",
       "      <th>severe_toxic</th>\n",
       "      <th>obscene</th>\n",
       "      <th>threat</th>\n",
       "      <th>insult</th>\n",
       "      <th>identity_hate</th>\n",
       "    </tr>\n",
       "  </thead>\n",
       "  <tbody>\n",
       "    <tr>\n",
       "      <th>0</th>\n",
       "      <td>00001cee341fdb12</td>\n",
       "      <td>0.999669</td>\n",
       "      <td>0.181710</td>\n",
       "      <td>0.998023</td>\n",
       "      <td>0.077068</td>\n",
       "      <td>0.961770</td>\n",
       "      <td>0.300791</td>\n",
       "    </tr>\n",
       "    <tr>\n",
       "      <th>1</th>\n",
       "      <td>0000247867823ef7</td>\n",
       "      <td>0.002374</td>\n",
       "      <td>0.001220</td>\n",
       "      <td>0.001524</td>\n",
       "      <td>0.000134</td>\n",
       "      <td>0.003646</td>\n",
       "      <td>0.002274</td>\n",
       "    </tr>\n",
       "    <tr>\n",
       "      <th>2</th>\n",
       "      <td>00013b17ad220c46</td>\n",
       "      <td>0.027371</td>\n",
       "      <td>0.005421</td>\n",
       "      <td>0.013268</td>\n",
       "      <td>0.001007</td>\n",
       "      <td>0.016255</td>\n",
       "      <td>0.004133</td>\n",
       "    </tr>\n",
       "    <tr>\n",
       "      <th>3</th>\n",
       "      <td>00017563c3f7919a</td>\n",
       "      <td>0.001083</td>\n",
       "      <td>0.001599</td>\n",
       "      <td>0.001669</td>\n",
       "      <td>0.000424</td>\n",
       "      <td>0.002638</td>\n",
       "      <td>0.000373</td>\n",
       "    </tr>\n",
       "    <tr>\n",
       "      <th>4</th>\n",
       "      <td>00017695ad8997eb</td>\n",
       "      <td>0.013439</td>\n",
       "      <td>0.003148</td>\n",
       "      <td>0.005460</td>\n",
       "      <td>0.001253</td>\n",
       "      <td>0.006493</td>\n",
       "      <td>0.002001</td>\n",
       "    </tr>\n",
       "  </tbody>\n",
       "</table>\n",
       "</div>"
      ],
      "text/plain": [
       "                 id     toxic  severe_toxic   obscene    threat    insult  \\\n",
       "0  00001cee341fdb12  0.999669      0.181710  0.998023  0.077068  0.961770   \n",
       "1  0000247867823ef7  0.002374      0.001220  0.001524  0.000134  0.003646   \n",
       "2  00013b17ad220c46  0.027371      0.005421  0.013268  0.001007  0.016255   \n",
       "3  00017563c3f7919a  0.001083      0.001599  0.001669  0.000424  0.002638   \n",
       "4  00017695ad8997eb  0.013439      0.003148  0.005460  0.001253  0.006493   \n",
       "\n",
       "   identity_hate  \n",
       "0       0.300791  \n",
       "1       0.002274  \n",
       "2       0.004133  \n",
       "3       0.000373  \n",
       "4       0.002001  "
      ]
     },
     "execution_count": 19,
     "metadata": {},
     "output_type": "execute_result"
    }
   ],
   "source": [
    "submission.head()"
   ]
  }
 ],
 "metadata": {
  "kernelspec": {
   "display_name": "Python 3",
   "language": "python",
   "name": "python3"
  },
  "language_info": {
   "codemirror_mode": {
    "name": "ipython",
    "version": 3
   },
   "file_extension": ".py",
   "mimetype": "text/x-python",
   "name": "python",
   "nbconvert_exporter": "python",
   "pygments_lexer": "ipython3",
   "version": "3.5.3"
  }
 },
 "nbformat": 4,
 "nbformat_minor": 2
}
