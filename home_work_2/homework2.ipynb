{
 "cells": [
  {
   "cell_type": "code",
   "execution_count": 1,
   "metadata": {},
   "outputs": [],
   "source": [
    "import numpy as np\n",
    "import pandas as pd\n",
    "import re\n",
    "\n",
    "from collections import Counter\n",
    "from sklearn.feature_extraction.text import TfidfVectorizer, CountVectorizer\n",
    "from sklearn.linear_model import LogisticRegression\n",
    "from sklearn.model_selection import cross_val_score"
   ]
  },
  {
   "cell_type": "code",
   "execution_count": 2,
   "metadata": {},
   "outputs": [],
   "source": [
    "train = pd.read_csv('train.csv')\n",
    "test = pd.read_csv('test.csv')\n",
    "sample_submission = pd.read_csv('sample_submission.csv')"
   ]
  },
  {
   "cell_type": "code",
   "execution_count": 3,
   "metadata": {},
   "outputs": [
    {
     "data": {
      "text/html": [
       "<div>\n",
       "<style scoped>\n",
       "    .dataframe tbody tr th:only-of-type {\n",
       "        vertical-align: middle;\n",
       "    }\n",
       "\n",
       "    .dataframe tbody tr th {\n",
       "        vertical-align: top;\n",
       "    }\n",
       "\n",
       "    .dataframe thead th {\n",
       "        text-align: right;\n",
       "    }\n",
       "</style>\n",
       "<table border=\"1\" class=\"dataframe\">\n",
       "  <thead>\n",
       "    <tr style=\"text-align: right;\">\n",
       "      <th></th>\n",
       "      <th>id</th>\n",
       "      <th>comment_text</th>\n",
       "    </tr>\n",
       "  </thead>\n",
       "  <tbody>\n",
       "    <tr>\n",
       "      <th>78457</th>\n",
       "      <td>82eae306e6e33260</td>\n",
       "      <td>\" \\n\\n  Please do not vandalize pages, as you ...</td>\n",
       "    </tr>\n",
       "    <tr>\n",
       "      <th>12906</th>\n",
       "      <td>15b7cc0cd123de35</td>\n",
       "      <td>Friends, \\n\\n Becaue this page is not too long...</td>\n",
       "    </tr>\n",
       "    <tr>\n",
       "      <th>145042</th>\n",
       "      <td>f280e5bba20979ea</td>\n",
       "      <td>==Go fuck yourself i will vandalize any page i...</td>\n",
       "    </tr>\n",
       "    <tr>\n",
       "      <th>77814</th>\n",
       "      <td>81ca8828adbf01e5</td>\n",
       "      <td>\" \\n\\n == Evil! == \\n \\n Here is an 6/6/6, aka...</td>\n",
       "    </tr>\n",
       "    <tr>\n",
       "      <th>12534</th>\n",
       "      <td>150ee6ce84b3fb2c</td>\n",
       "      <td>\" \\n\\n Well, most of the site for \"\"Henkäys Ik...</td>\n",
       "    </tr>\n",
       "    <tr>\n",
       "      <th>67517</th>\n",
       "      <td>706b199419e2864b</td>\n",
       "      <td>\" \\n\\n  \\n\\n ==You suck so bad im have a Saquo...</td>\n",
       "    </tr>\n",
       "    <tr>\n",
       "      <th>118190</th>\n",
       "      <td>c54af7576338483c</td>\n",
       "      <td>then hitler at a big bag of steming dog shit</td>\n",
       "    </tr>\n",
       "    <tr>\n",
       "      <th>144242</th>\n",
       "      <td>f107655d8cc5acf0</td>\n",
       "      <td>\" \\n\\n == vandalism == \\n\\n some idiot changed...</td>\n",
       "    </tr>\n",
       "    <tr>\n",
       "      <th>37830</th>\n",
       "      <td>3ec6fc209d85a5f6</td>\n",
       "      <td>==Astrology== \\n\\n There's a discussion on Tal...</td>\n",
       "    </tr>\n",
       "    <tr>\n",
       "      <th>99876</th>\n",
       "      <td>a6ae2f71402b762c</td>\n",
       "      <td>sam fay is gay</td>\n",
       "    </tr>\n",
       "  </tbody>\n",
       "</table>\n",
       "</div>"
      ],
      "text/plain": [
       "                      id                                       comment_text\n",
       "78457   82eae306e6e33260  \" \\n\\n  Please do not vandalize pages, as you ...\n",
       "12906   15b7cc0cd123de35  Friends, \\n\\n Becaue this page is not too long...\n",
       "145042  f280e5bba20979ea  ==Go fuck yourself i will vandalize any page i...\n",
       "77814   81ca8828adbf01e5  \" \\n\\n == Evil! == \\n \\n Here is an 6/6/6, aka...\n",
       "12534   150ee6ce84b3fb2c  \" \\n\\n Well, most of the site for \"\"Henkäys Ik...\n",
       "67517   706b199419e2864b  \" \\n\\n  \\n\\n ==You suck so bad im have a Saquo...\n",
       "118190  c54af7576338483c       then hitler at a big bag of steming dog shit\n",
       "144242  f107655d8cc5acf0  \" \\n\\n == vandalism == \\n\\n some idiot changed...\n",
       "37830   3ec6fc209d85a5f6  ==Astrology== \\n\\n There's a discussion on Tal...\n",
       "99876   a6ae2f71402b762c                                     sam fay is gay"
      ]
     },
     "execution_count": 3,
     "metadata": {},
     "output_type": "execute_result"
    }
   ],
   "source": [
    "test.sample(10)"
   ]
  },
  {
   "cell_type": "markdown",
   "metadata": {},
   "source": [
    "### The most common word"
   ]
  },
  {
   "cell_type": "code",
   "execution_count": 4,
   "metadata": {},
   "outputs": [],
   "source": [
    "def get_words(text):\n",
    "    \n",
    "    result = re.findall(r\"[a-z]+'?[a-z]+\", text.lower())\n",
    "    \n",
    "    return result"
   ]
  },
  {
   "cell_type": "code",
   "execution_count": 5,
   "metadata": {},
   "outputs": [],
   "source": [
    "train_text = train['comment_text'].apply(get_words)\n",
    "\n",
    "test_text = test['comment_text'].apply(get_words)\n",
    "\n",
    "all_text = pd.concat([train_text, test_text])"
   ]
  },
  {
   "cell_type": "code",
   "execution_count": 6,
   "metadata": {},
   "outputs": [],
   "source": [
    "total = list()\n",
    "for line in all_text:\n",
    "    total.extend(line)"
   ]
  },
  {
   "cell_type": "code",
   "execution_count": 7,
   "metadata": {},
   "outputs": [
    {
     "data": {
      "text/plain": [
       "[('the', 919035), ('to', 539236), ('of', 410839)]"
      ]
     },
     "execution_count": 7,
     "metadata": {},
     "output_type": "execute_result"
    }
   ],
   "source": [
    "count = Counter(total)\n",
    "count.most_common(3)"
   ]
  },
  {
   "cell_type": "markdown",
   "metadata": {},
   "source": [
    "Какое слово встречается чаще всего в объединенном train и test датасете? - **'the'** "
   ]
  },
  {
   "cell_type": "markdown",
   "metadata": {},
   "source": [
    "### Увеличение параметра C в Logistic regression увеличивает или уменьшает степень регуляризации?"
   ]
  },
  {
   "cell_type": "markdown",
   "metadata": {},
   "source": [
    "Увеличение параметра C в Logistic regression увеличивает или уменьшает степень регуляризации?\n",
    "\n",
    "**C** – обратный коэффициент регуляризации (тот самый C в sklearn-реализации LogisticRegression)\n",
    "\n",
    "Ответ: **Уменьшает**"
   ]
  },
  {
   "cell_type": "markdown",
   "metadata": {},
   "source": [
    "### Crossvalidation"
   ]
  },
  {
   "cell_type": "code",
   "execution_count": 8,
   "metadata": {},
   "outputs": [],
   "source": [
    "class_names = ['toxic', 'severe_toxic', 'obscene', 'threat', 'insult', 'identity_hate']"
   ]
  },
  {
   "cell_type": "code",
   "execution_count": 9,
   "metadata": {},
   "outputs": [],
   "source": [
    "train_text = train_text.apply(lambda text: ' '.join(text))\n",
    "\n",
    "test_text = test_text.apply(lambda text: ' '.join(text))\n",
    "\n",
    "all_text = pd.concat([train_text, test_text])"
   ]
  },
  {
   "cell_type": "code",
   "execution_count": 10,
   "metadata": {},
   "outputs": [],
   "source": [
    "word_vectorizer = TfidfVectorizer() # TfidfVectorizer или CountVectorizer\n",
    "\n",
    "word_vectorizer.fit(train_text)\n",
    "train_word_features = word_vectorizer.transform(train_text)\n",
    "test_word_features = word_vectorizer.transform(test_text)"
   ]
  },
  {
   "cell_type": "code",
   "execution_count": 29,
   "metadata": {},
   "outputs": [
    {
     "data": {
      "text/plain": [
       "6820411"
      ]
     },
     "execution_count": 29,
     "metadata": {},
     "output_type": "execute_result"
    }
   ],
   "source": [
    "\n"
   ]
  },
  {
   "cell_type": "code",
   "execution_count": 11,
   "metadata": {
    "scrolled": true
   },
   "outputs": [
    {
     "name": "stdout",
     "output_type": "stream",
     "text": [
      "CV score for class toxic is 0.9727163876706908\n",
      "CV score for class severe_toxic is 0.9833709075076121\n",
      "CV score for class obscene is 0.9848281270874818\n",
      "CV score for class threat is 0.9864792424475665\n",
      "CV score for class insult is 0.9768823487108156\n",
      "CV score for class identity_hate is 0.9739996482178935\n",
      "Total score is 0.9797127769403434\n"
     ]
    }
   ],
   "source": [
    "C = 3.0\n",
    "\n",
    "\n",
    "\n",
    "classifier = LogisticRegression(C=C,random_state=7) \n",
    "\n",
    "scores= []\n",
    "\n",
    "for class_name in class_names:\n",
    "\n",
    "    train_target = train[class_name]\n",
    "\n",
    "    cv_score = np.mean(cross_val_score(classifier, train_word_features, train_target, scoring='roc_auc'))\n",
    "\n",
    "    print('CV score for class {} is {}'.format(class_name, cv_score))\n",
    "    scores.append(cv_score)\n",
    "\n",
    "print('Total score is {}'.format(np.mean(scores)))\n",
    "\n"
   ]
  },
  {
   "cell_type": "markdown",
   "metadata": {},
   "source": [
    "\n",
    "Total score is  **0.9797092719099353** \n"
   ]
  },
  {
   "cell_type": "markdown",
   "metadata": {},
   "source": [
    "### Create submission for Kaggle"
   ]
  },
  {
   "cell_type": "code",
   "execution_count": 12,
   "metadata": {},
   "outputs": [],
   "source": [
    "submission = pd.DataFrame.from_dict({'id': test['id']})"
   ]
  },
  {
   "cell_type": "code",
   "execution_count": 13,
   "metadata": {},
   "outputs": [],
   "source": [
    "for class_name in class_names:  \n",
    "    \n",
    "    train_target = train[class_name]\n",
    "    \n",
    "    classifier = LogisticRegression(C=C,random_state=7)\n",
    "      \n",
    "    classifier.fit(train_word_features, train_target)\n",
    "    \n",
    "    submission[class_name] = classifier.predict_proba(test_word_features)[:, 1]"
   ]
  },
  {
   "cell_type": "code",
   "execution_count": 14,
   "metadata": {},
   "outputs": [],
   "source": [
    "submission.to_csv('submission.csv', index=False)"
   ]
  },
  {
   "cell_type": "code",
   "execution_count": 15,
   "metadata": {},
   "outputs": [
    {
     "data": {
      "text/html": [
       "<div>\n",
       "<style scoped>\n",
       "    .dataframe tbody tr th:only-of-type {\n",
       "        vertical-align: middle;\n",
       "    }\n",
       "\n",
       "    .dataframe tbody tr th {\n",
       "        vertical-align: top;\n",
       "    }\n",
       "\n",
       "    .dataframe thead th {\n",
       "        text-align: right;\n",
       "    }\n",
       "</style>\n",
       "<table border=\"1\" class=\"dataframe\">\n",
       "  <thead>\n",
       "    <tr style=\"text-align: right;\">\n",
       "      <th></th>\n",
       "      <th>id</th>\n",
       "      <th>toxic</th>\n",
       "      <th>severe_toxic</th>\n",
       "      <th>obscene</th>\n",
       "      <th>threat</th>\n",
       "      <th>insult</th>\n",
       "      <th>identity_hate</th>\n",
       "    </tr>\n",
       "  </thead>\n",
       "  <tbody>\n",
       "    <tr>\n",
       "      <th>0</th>\n",
       "      <td>00001cee341fdb12</td>\n",
       "      <td>0.999723</td>\n",
       "      <td>0.211471</td>\n",
       "      <td>0.998971</td>\n",
       "      <td>0.083908</td>\n",
       "      <td>0.973494</td>\n",
       "      <td>0.345488</td>\n",
       "    </tr>\n",
       "    <tr>\n",
       "      <th>1</th>\n",
       "      <td>0000247867823ef7</td>\n",
       "      <td>0.002833</td>\n",
       "      <td>0.000989</td>\n",
       "      <td>0.001455</td>\n",
       "      <td>0.000175</td>\n",
       "      <td>0.003588</td>\n",
       "      <td>0.002186</td>\n",
       "    </tr>\n",
       "    <tr>\n",
       "      <th>2</th>\n",
       "      <td>00013b17ad220c46</td>\n",
       "      <td>0.027909</td>\n",
       "      <td>0.003942</td>\n",
       "      <td>0.012249</td>\n",
       "      <td>0.001118</td>\n",
       "      <td>0.015295</td>\n",
       "      <td>0.003797</td>\n",
       "    </tr>\n",
       "    <tr>\n",
       "      <th>3</th>\n",
       "      <td>00017563c3f7919a</td>\n",
       "      <td>0.001302</td>\n",
       "      <td>0.001534</td>\n",
       "      <td>0.001606</td>\n",
       "      <td>0.000513</td>\n",
       "      <td>0.002557</td>\n",
       "      <td>0.000362</td>\n",
       "    </tr>\n",
       "    <tr>\n",
       "      <th>4</th>\n",
       "      <td>00017695ad8997eb</td>\n",
       "      <td>0.017167</td>\n",
       "      <td>0.002563</td>\n",
       "      <td>0.005250</td>\n",
       "      <td>0.001323</td>\n",
       "      <td>0.006289</td>\n",
       "      <td>0.001948</td>\n",
       "    </tr>\n",
       "  </tbody>\n",
       "</table>\n",
       "</div>"
      ],
      "text/plain": [
       "                 id     toxic  severe_toxic   obscene    threat    insult  \\\n",
       "0  00001cee341fdb12  0.999723      0.211471  0.998971  0.083908  0.973494   \n",
       "1  0000247867823ef7  0.002833      0.000989  0.001455  0.000175  0.003588   \n",
       "2  00013b17ad220c46  0.027909      0.003942  0.012249  0.001118  0.015295   \n",
       "3  00017563c3f7919a  0.001302      0.001534  0.001606  0.000513  0.002557   \n",
       "4  00017695ad8997eb  0.017167      0.002563  0.005250  0.001323  0.006289   \n",
       "\n",
       "   identity_hate  \n",
       "0       0.345488  \n",
       "1       0.002186  \n",
       "2       0.003797  \n",
       "3       0.000362  \n",
       "4       0.001948  "
      ]
     },
     "execution_count": 15,
     "metadata": {},
     "output_type": "execute_result"
    }
   ],
   "source": [
    "submission.head()"
   ]
  }
 ],
 "metadata": {
  "kernelspec": {
   "display_name": "Python 3",
   "language": "python",
   "name": "python3"
  },
  "language_info": {
   "codemirror_mode": {
    "name": "ipython",
    "version": 3
   },
   "file_extension": ".py",
   "mimetype": "text/x-python",
   "name": "python",
   "nbconvert_exporter": "python",
   "pygments_lexer": "ipython3",
   "version": "3.5.3"
  }
 },
 "nbformat": 4,
 "nbformat_minor": 2
}
