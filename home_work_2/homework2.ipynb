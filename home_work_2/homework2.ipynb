{
 "cells": [
  {
   "cell_type": "code",
   "execution_count": 1,
   "metadata": {},
   "outputs": [],
   "source": [
    "import numpy as np\n",
    "import pandas as pd\n",
    "import re\n",
    "\n",
    "from collections import Counter\n",
    "from sklearn.feature_extraction.text import TfidfVectorizer, CountVectorizer\n",
    "from sklearn.linear_model import LogisticRegression\n",
    "from sklearn.model_selection import cross_val_score"
   ]
  },
  {
   "cell_type": "code",
   "execution_count": 2,
   "metadata": {},
   "outputs": [],
   "source": [
    "train = pd.read_csv('train.csv')\n",
    "test = pd.read_csv('test.csv')\n",
    "sample_submission = pd.read_csv('sample_submission.csv')"
   ]
  },
  {
   "cell_type": "code",
   "execution_count": 3,
   "metadata": {},
   "outputs": [
    {
     "data": {
      "text/html": [
       "<div>\n",
       "<style scoped>\n",
       "    .dataframe tbody tr th:only-of-type {\n",
       "        vertical-align: middle;\n",
       "    }\n",
       "\n",
       "    .dataframe tbody tr th {\n",
       "        vertical-align: top;\n",
       "    }\n",
       "\n",
       "    .dataframe thead th {\n",
       "        text-align: right;\n",
       "    }\n",
       "</style>\n",
       "<table border=\"1\" class=\"dataframe\">\n",
       "  <thead>\n",
       "    <tr style=\"text-align: right;\">\n",
       "      <th></th>\n",
       "      <th>id</th>\n",
       "      <th>comment_text</th>\n",
       "    </tr>\n",
       "  </thead>\n",
       "  <tbody>\n",
       "    <tr>\n",
       "      <th>62724</th>\n",
       "      <td>6874041e17b8ad04</td>\n",
       "      <td>Proposal \\n I propose !K7 Records is merged in...</td>\n",
       "    </tr>\n",
       "    <tr>\n",
       "      <th>54004</th>\n",
       "      <td>59c1b16e28af332a</td>\n",
       "      <td>Bold text \\n == Headline text == \\n I HATE SKO...</td>\n",
       "    </tr>\n",
       "    <tr>\n",
       "      <th>28735</th>\n",
       "      <td>2fd559120e40d338</td>\n",
       "      <td>\" \\n\\n == Readers of this article want to know...</td>\n",
       "    </tr>\n",
       "    <tr>\n",
       "      <th>24782</th>\n",
       "      <td>2948b4a2671ef0e9</td>\n",
       "      <td>== crazy tompson == \\n\\n poop</td>\n",
       "    </tr>\n",
       "    <tr>\n",
       "      <th>32529</th>\n",
       "      <td>3613e71d83b764f0</td>\n",
       "      <td>I don't understand. If you remove Dunlop becas...</td>\n",
       "    </tr>\n",
       "    <tr>\n",
       "      <th>59604</th>\n",
       "      <td>63179b38a223cc11</td>\n",
       "      <td>which means big fucking hammer</td>\n",
       "    </tr>\n",
       "    <tr>\n",
       "      <th>38922</th>\n",
       "      <td>409496e2fbf863d0</td>\n",
       "      <td>Hi hater, how you doing? I know that you hate ...</td>\n",
       "    </tr>\n",
       "    <tr>\n",
       "      <th>146524</th>\n",
       "      <td>f4e4fb26d875a6e5</td>\n",
       "      <td>Are you stupid? Which one are these replies un...</td>\n",
       "    </tr>\n",
       "    <tr>\n",
       "      <th>38782</th>\n",
       "      <td>405bbd4075b2afb5</td>\n",
       "      <td>:Since no-one has clarified this, I'm going to...</td>\n",
       "    </tr>\n",
       "    <tr>\n",
       "      <th>21579</th>\n",
       "      <td>240c574e5d2f36f2</td>\n",
       "      <td>== How to organize the list and template == \\n...</td>\n",
       "    </tr>\n",
       "  </tbody>\n",
       "</table>\n",
       "</div>"
      ],
      "text/plain": [
       "                      id                                       comment_text\n",
       "62724   6874041e17b8ad04  Proposal \\n I propose !K7 Records is merged in...\n",
       "54004   59c1b16e28af332a  Bold text \\n == Headline text == \\n I HATE SKO...\n",
       "28735   2fd559120e40d338  \" \\n\\n == Readers of this article want to know...\n",
       "24782   2948b4a2671ef0e9                      == crazy tompson == \\n\\n poop\n",
       "32529   3613e71d83b764f0  I don't understand. If you remove Dunlop becas...\n",
       "59604   63179b38a223cc11                     which means big fucking hammer\n",
       "38922   409496e2fbf863d0  Hi hater, how you doing? I know that you hate ...\n",
       "146524  f4e4fb26d875a6e5  Are you stupid? Which one are these replies un...\n",
       "38782   405bbd4075b2afb5  :Since no-one has clarified this, I'm going to...\n",
       "21579   240c574e5d2f36f2  == How to organize the list and template == \\n..."
      ]
     },
     "execution_count": 3,
     "metadata": {},
     "output_type": "execute_result"
    }
   ],
   "source": [
    "test.sample(10)"
   ]
  },
  {
   "cell_type": "markdown",
   "metadata": {},
   "source": [
    "### The most common word"
   ]
  },
  {
   "cell_type": "code",
   "execution_count": 4,
   "metadata": {},
   "outputs": [],
   "source": [
    "train_text = train['comment_text']\n",
    "test_text = test['comment_text']\n",
    "all_text = pd.concat([train_text, test_text])"
   ]
  },
  {
   "cell_type": "code",
   "execution_count": 5,
   "metadata": {},
   "outputs": [],
   "source": [
    "def get_words(text):\n",
    "    result = re.split(r'\\s+|\\.', text.lower())\n",
    "    return result"
   ]
  },
  {
   "cell_type": "code",
   "execution_count": 6,
   "metadata": {},
   "outputs": [],
   "source": [
    "total = list()\n",
    "for line in all_text:\n",
    "    total.extend(get_words(line))"
   ]
  },
  {
   "cell_type": "code",
   "execution_count": 7,
   "metadata": {},
   "outputs": [
    {
     "data": {
      "text/plain": [
       "[('', 1097088), ('the', 902873), ('to', 534076)]"
      ]
     },
     "execution_count": 7,
     "metadata": {},
     "output_type": "execute_result"
    }
   ],
   "source": [
    "count = Counter(total)\n",
    "count.most_common(3)"
   ]
  },
  {
   "cell_type": "markdown",
   "metadata": {},
   "source": [
    "Какое слово встречается чаще всего в объединенном train и test датасете? - **'the'** "
   ]
  },
  {
   "cell_type": "markdown",
   "metadata": {},
   "source": [
    "### Увеличение параметра C в Logistic regression увеличивает или уменьшает степень регуляризации?"
   ]
  },
  {
   "cell_type": "markdown",
   "metadata": {},
   "source": [
    "Увеличение параметра C в Logistic regression увеличивает или уменьшает степень регуляризации?\n",
    "\n",
    "**C** – обратный коэффициент регуляризации (тот самый C в sklearn-реализации LogisticRegression)\n",
    "\n",
    "Ответ: **Уменьшает**"
   ]
  },
  {
   "cell_type": "markdown",
   "metadata": {},
   "source": [
    "### Crossvalidation"
   ]
  },
  {
   "cell_type": "code",
   "execution_count": 8,
   "metadata": {},
   "outputs": [],
   "source": [
    "class_names = ['toxic', 'severe_toxic', 'obscene', 'threat', 'insult', 'identity_hate']"
   ]
  },
  {
   "cell_type": "code",
   "execution_count": 9,
   "metadata": {},
   "outputs": [],
   "source": [
    "word_vectorizer = TfidfVectorizer() # TfidfVectorizer или CountVectorizer\n",
    "\n",
    "word_vectorizer.fit(all_text)\n",
    "train_word_features = word_vectorizer.transform(train_text)\n",
    "test_word_features = word_vectorizer.transform(test_text)"
   ]
  },
  {
   "cell_type": "code",
   "execution_count": 10,
   "metadata": {
    "scrolled": true
   },
   "outputs": [
    {
     "name": "stdout",
     "output_type": "stream",
     "text": [
      "CV score for class toxic is 0.97193119880727\n",
      "CV score for class severe_toxic is 0.9830390499432613\n",
      "CV score for class obscene is 0.9840424143183912\n",
      "CV score for class threat is 0.9859612844077553\n",
      "CV score for class insult is 0.9760496985195051\n",
      "CV score for class identity_hate is 0.9734729045817354\n",
      "Total score is 0.979082758429653\n"
     ]
    }
   ],
   "source": [
    "C = 3.2\n",
    "\n",
    "classifier = LogisticRegression(C=C,random_state=7) \n",
    "\n",
    "scores= []\n",
    "\n",
    "for class_name in class_names:\n",
    "    \n",
    "    train_target = train[class_name]\n",
    "\n",
    "    cv_score = np.mean(cross_val_score(classifier, train_word_features, train_target, scoring='roc_auc'))\n",
    "\n",
    "    print('CV score for class {} is {}'.format(class_name, cv_score))\n",
    "    scores.append(cv_score)\n",
    "    \n",
    "print('Total score is {}'.format(np.mean(scores)))\n",
    "\n"
   ]
  },
  {
   "cell_type": "markdown",
   "metadata": {},
   "source": [
    "\n",
    "```\n",
    "C = 3.2\n",
    "word_vectorizer = TfidfVectorizer()\n",
    "Total score is 0.979082758429653\n",
    "```"
   ]
  },
  {
   "cell_type": "markdown",
   "metadata": {},
   "source": [
    "### Create submission for Kaggle"
   ]
  },
  {
   "cell_type": "code",
   "execution_count": 11,
   "metadata": {},
   "outputs": [],
   "source": [
    "submission = pd.DataFrame.from_dict({'id': test['id']})"
   ]
  },
  {
   "cell_type": "code",
   "execution_count": 12,
   "metadata": {},
   "outputs": [],
   "source": [
    "for class_name in class_names:  \n",
    "    \n",
    "    train_target = train[class_name]\n",
    "    \n",
    "    classifier = LogisticRegression(C=C,random_state=7)\n",
    "      \n",
    "    classifier.fit(train_word_features, train_target)\n",
    "    \n",
    "    submission[class_name] = classifier.predict_proba(test_word_features)[:, 1]"
   ]
  },
  {
   "cell_type": "code",
   "execution_count": 13,
   "metadata": {},
   "outputs": [],
   "source": [
    "submission.to_csv('submission_new.csv', index=False)"
   ]
  },
  {
   "cell_type": "code",
   "execution_count": 14,
   "metadata": {},
   "outputs": [
    {
     "data": {
      "text/html": [
       "<div>\n",
       "<style scoped>\n",
       "    .dataframe tbody tr th:only-of-type {\n",
       "        vertical-align: middle;\n",
       "    }\n",
       "\n",
       "    .dataframe tbody tr th {\n",
       "        vertical-align: top;\n",
       "    }\n",
       "\n",
       "    .dataframe thead th {\n",
       "        text-align: right;\n",
       "    }\n",
       "</style>\n",
       "<table border=\"1\" class=\"dataframe\">\n",
       "  <thead>\n",
       "    <tr style=\"text-align: right;\">\n",
       "      <th></th>\n",
       "      <th>id</th>\n",
       "      <th>toxic</th>\n",
       "      <th>severe_toxic</th>\n",
       "      <th>obscene</th>\n",
       "      <th>threat</th>\n",
       "      <th>insult</th>\n",
       "      <th>identity_hate</th>\n",
       "    </tr>\n",
       "  </thead>\n",
       "  <tbody>\n",
       "    <tr>\n",
       "      <th>0</th>\n",
       "      <td>00001cee341fdb12</td>\n",
       "      <td>0.999616</td>\n",
       "      <td>0.177845</td>\n",
       "      <td>0.998429</td>\n",
       "      <td>0.072436</td>\n",
       "      <td>0.963661</td>\n",
       "      <td>0.311573</td>\n",
       "    </tr>\n",
       "    <tr>\n",
       "      <th>1</th>\n",
       "      <td>0000247867823ef7</td>\n",
       "      <td>0.002659</td>\n",
       "      <td>0.000993</td>\n",
       "      <td>0.001428</td>\n",
       "      <td>0.000165</td>\n",
       "      <td>0.003560</td>\n",
       "      <td>0.001985</td>\n",
       "    </tr>\n",
       "    <tr>\n",
       "      <th>2</th>\n",
       "      <td>00013b17ad220c46</td>\n",
       "      <td>0.030439</td>\n",
       "      <td>0.004444</td>\n",
       "      <td>0.013365</td>\n",
       "      <td>0.001220</td>\n",
       "      <td>0.016244</td>\n",
       "      <td>0.004082</td>\n",
       "    </tr>\n",
       "    <tr>\n",
       "      <th>3</th>\n",
       "      <td>00017563c3f7919a</td>\n",
       "      <td>0.001388</td>\n",
       "      <td>0.001531</td>\n",
       "      <td>0.001523</td>\n",
       "      <td>0.000510</td>\n",
       "      <td>0.002386</td>\n",
       "      <td>0.000355</td>\n",
       "    </tr>\n",
       "    <tr>\n",
       "      <th>4</th>\n",
       "      <td>00017695ad8997eb</td>\n",
       "      <td>0.016239</td>\n",
       "      <td>0.002618</td>\n",
       "      <td>0.005238</td>\n",
       "      <td>0.001358</td>\n",
       "      <td>0.006400</td>\n",
       "      <td>0.001839</td>\n",
       "    </tr>\n",
       "  </tbody>\n",
       "</table>\n",
       "</div>"
      ],
      "text/plain": [
       "                 id     toxic  severe_toxic   obscene    threat    insult  \\\n",
       "0  00001cee341fdb12  0.999616      0.177845  0.998429  0.072436  0.963661   \n",
       "1  0000247867823ef7  0.002659      0.000993  0.001428  0.000165  0.003560   \n",
       "2  00013b17ad220c46  0.030439      0.004444  0.013365  0.001220  0.016244   \n",
       "3  00017563c3f7919a  0.001388      0.001531  0.001523  0.000510  0.002386   \n",
       "4  00017695ad8997eb  0.016239      0.002618  0.005238  0.001358  0.006400   \n",
       "\n",
       "   identity_hate  \n",
       "0       0.311573  \n",
       "1       0.001985  \n",
       "2       0.004082  \n",
       "3       0.000355  \n",
       "4       0.001839  "
      ]
     },
     "execution_count": 14,
     "metadata": {},
     "output_type": "execute_result"
    }
   ],
   "source": [
    "submission.head()"
   ]
  }
 ],
 "metadata": {
  "kernelspec": {
   "display_name": "Python 3",
   "language": "python",
   "name": "python3"
  },
  "language_info": {
   "codemirror_mode": {
    "name": "ipython",
    "version": 3
   },
   "file_extension": ".py",
   "mimetype": "text/x-python",
   "name": "python",
   "nbconvert_exporter": "python",
   "pygments_lexer": "ipython3",
   "version": "3.5.3"
  }
 },
 "nbformat": 4,
 "nbformat_minor": 2
}
