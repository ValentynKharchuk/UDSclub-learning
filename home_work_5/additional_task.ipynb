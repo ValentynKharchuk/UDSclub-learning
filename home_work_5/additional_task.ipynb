{
 "cells": [
  {
   "cell_type": "code",
   "execution_count": 1,
   "metadata": {},
   "outputs": [
    {
     "name": "stderr",
     "output_type": "stream",
     "text": [
      "/home/valentyn/Projects/my_env/lib/python3.5/site-packages/sklearn/cross_validation.py:41: DeprecationWarning: This module was deprecated in version 0.18 in favor of the model_selection module into which all the refactored classes and functions are moved. Also note that the interface of the new CV iterators are different from that of this module. This module will be removed in 0.20.\n",
      "  \"This module will be removed in 0.20.\", DeprecationWarning)\n"
     ]
    }
   ],
   "source": [
    "import pandas as pd\n",
    "import numpy as np\n",
    "\n",
    "\n",
    "from sklearn import ensemble\n",
    "from sklearn.model_selection import StratifiedKFold, GridSearchCV\n",
    "from sklearn.cross_validation import train_test_split"
   ]
  },
  {
   "cell_type": "code",
   "execution_count": 2,
   "metadata": {},
   "outputs": [],
   "source": [
    "train = pd.read_csv('./train.csv', sep='\\t')\n",
    "test = pd.read_csv('./test.csv', sep='\\t')"
   ]
  },
  {
   "cell_type": "code",
   "execution_count": 3,
   "metadata": {},
   "outputs": [
    {
     "name": "stdout",
     "output_type": "stream",
     "text": [
      "Length of features 343\n"
     ]
    }
   ],
   "source": [
    "features = list(train.columns)\n",
    "\n",
    "#remove index and target\n",
    "features.remove('Unnamed: 0')\n",
    "features.remove('0')\n",
    "features.remove('160')\n",
    "features.remove('164')\n",
    "\n",
    "print('Length of features {}'.format(len(features)))"
   ]
  },
  {
   "cell_type": "code",
   "execution_count": 12,
   "metadata": {},
   "outputs": [
    {
     "name": "stdout",
     "output_type": "stream",
     "text": [
      "Length of features 238\n"
     ]
    }
   ],
   "source": [
    "# removing features which have high percent of zeros\n",
    "for col in features:\n",
    "    if max(train[col].value_counts(normalize=True)) <= 0.98:\n",
    "        features.remove(col)\n",
    "\n",
    "#some information\n",
    "print('Length of features {}'.format(len(features)))"
   ]
  },
  {
   "cell_type": "code",
   "execution_count": 13,
   "metadata": {},
   "outputs": [
    {
     "name": "stdout",
     "output_type": "stream",
     "text": [
      "17 is highly correlated with 153, corr = 1.0\n",
      "26 is highly correlated with 180, corr = 0.9938509737758875\n",
      "115 is highly correlated with 119, corr = 0.9322885796273787\n",
      "322 is highly correlated with 326, corr = -0.9653174982983618\n",
      "324 is highly correlated with 334, corr = 0.951960389387698\n",
      "Length of features 233\n"
     ]
    }
   ],
   "source": [
    "# removing correlated features\n",
    "for col1 in features:\n",
    "    for col2 in features:\n",
    "        if col1 != col2 and abs(train[col1].corr(train[col2])) > 0.9:\n",
    "            print('{} is highly correlated with {}, corr = {}'.format(col1, col2, train[col1].corr(train[col2])))\n",
    "            features.remove(col2)\n",
    "print('Length of features {}'.format(len(features)))"
   ]
  },
  {
   "cell_type": "code",
   "execution_count": 4,
   "metadata": {},
   "outputs": [],
   "source": [
    "X = train[features] \n",
    "y = train['0']\n",
    "\n",
    "X_train, X_val, y_train, y_val = train_test_split(X, y, test_size=0.33, random_state=42)"
   ]
  },
  {
   "cell_type": "code",
   "execution_count": 5,
   "metadata": {},
   "outputs": [
    {
     "name": "stdout",
     "output_type": "stream",
     "text": [
      "Fitting 5 folds for each of 2 candidates, totalling 10 fits\n",
      "[CV] min_samples_split=10, max_depth=5, n_estimators=100 .............\n",
      "[CV] min_samples_split=10, max_depth=5, n_estimators=100 .............\n",
      "[CV] min_samples_split=10, max_depth=5, n_estimators=100 .............\n",
      "[CV] min_samples_split=10, max_depth=5, n_estimators=100 .............\n",
      "[CV]  min_samples_split=10, max_depth=5, n_estimators=100, total= 1.4min\n",
      "[CV] min_samples_split=10, max_depth=5, n_estimators=100 .............\n",
      "[CV]  min_samples_split=10, max_depth=5, n_estimators=100, total= 1.5min\n",
      "[CV] min_samples_split=10, max_depth=10, n_estimators=100 ............\n",
      "[CV]  min_samples_split=10, max_depth=5, n_estimators=100, total= 1.5min\n",
      "[CV] min_samples_split=10, max_depth=10, n_estimators=100 ............\n",
      "[CV]  min_samples_split=10, max_depth=5, n_estimators=100, total= 1.5min\n",
      "[CV] min_samples_split=10, max_depth=10, n_estimators=100 ............\n",
      "[CV]  min_samples_split=10, max_depth=5, n_estimators=100, total= 1.6min\n",
      "[CV] min_samples_split=10, max_depth=10, n_estimators=100 ............\n",
      "[CV]  min_samples_split=10, max_depth=10, n_estimators=100, total= 4.9min\n",
      "[CV] min_samples_split=10, max_depth=10, n_estimators=100 ............\n",
      "[CV]  min_samples_split=10, max_depth=10, n_estimators=100, total= 5.0min\n",
      "[CV]  min_samples_split=10, max_depth=10, n_estimators=100, total= 5.1min\n",
      "[CV]  min_samples_split=10, max_depth=10, n_estimators=100, total= 4.4min\n",
      "[CV]  min_samples_split=10, max_depth=10, n_estimators=100, total= 2.9min\n"
     ]
    },
    {
     "name": "stderr",
     "output_type": "stream",
     "text": [
      "[Parallel(n_jobs=-1)]: Done  10 out of  10 | elapsed:  9.4min finished\n"
     ]
    },
    {
     "name": "stdout",
     "output_type": "stream",
     "text": [
      "0.7233824869005818\n",
      "GradientBoostingRegressor(alpha=0.9, criterion='friedman_mse', init=None,\n",
      "             learning_rate=0.1, loss='ls', max_depth=5, max_features=None,\n",
      "             max_leaf_nodes=None, min_impurity_decrease=0.0,\n",
      "             min_impurity_split=None, min_samples_leaf=1,\n",
      "             min_samples_split=10, min_weight_fraction_leaf=0.0,\n",
      "             n_estimators=100, presort='auto', random_state=None,\n",
      "             subsample=1.0, verbose=0, warm_start=False)\n",
      "{'min_samples_split': 10, 'max_depth': 5, 'n_estimators': 100}\n",
      "CPU times: user 1min 11s, sys: 384 ms, total: 1min 11s\n",
      "Wall time: 10min 34s\n"
     ]
    }
   ],
   "source": [
    "%%time\n",
    "\n",
    "skf = StratifiedKFold(n_splits=5, shuffle=True, random_state=42)\n",
    "\n",
    "gb = ensemble.GradientBoostingRegressor()\n",
    "\n",
    "\n",
    "parameters = {\n",
    "    'n_estimators': [100], \n",
    "    'min_samples_split': [10], \n",
    "    'max_depth': [5, 10]\n",
    "\n",
    "}\n",
    "\n",
    "\n",
    "grid_search = GridSearchCV(\n",
    "    estimator=gb, \n",
    "    param_grid=parameters, \n",
    "    scoring ='roc_auc', \n",
    "    cv=skf,\n",
    "    verbose=2,\n",
    "    n_jobs=-1,\n",
    ")\n",
    "\n",
    "grid_search = grid_search.fit(X_train, y_train)\n",
    "\n",
    "print(grid_search.best_score_)\n",
    "print(grid_search.best_estimator_)\n",
    "print(grid_search.best_params_)"
   ]
  },
  {
   "cell_type": "code",
   "execution_count": 6,
   "metadata": {},
   "outputs": [
    {
     "name": "stdout",
     "output_type": "stream",
     "text": [
      "Test Score : 0.7240840321338295\n"
     ]
    }
   ],
   "source": [
    "from sklearn.metrics import roc_auc_score\n",
    "\n",
    "y_pred = grid_search.best_estimator_.predict(X_val)\n",
    "\n",
    "print('Test Score : {}'.format(roc_auc_score(y_val, y_pred)))"
   ]
  },
  {
   "cell_type": "code",
   "execution_count": 34,
   "metadata": {},
   "outputs": [],
   "source": []
  },
  {
   "cell_type": "code",
   "execution_count": 7,
   "metadata": {},
   "outputs": [],
   "source": [
    "X_test = test[features]\n",
    "y_pred_test = grid_search.best_estimator_.predict(X_test)\n",
    "\n",
    "pred_df = pd.DataFrame(test['Unnamed: 0'])\n",
    "pred_df['_VAL_'] = y_pred_test\n",
    "pred_df.columns = ['_ID_', '_VAL_']\n",
    "pred_df.to_csv('gb_regressor.csv', index=False)"
   ]
  },
  {
   "cell_type": "markdown",
   "metadata": {},
   "source": [
    "Validation Score : **0.7130867295807001**  \n",
    "Test Score :       **0.7099651776306071**  \n",
    "LB Score :         **0.71820161**\n",
    "\n",
    "* all features  \n",
    "Validation Score : **0.7233824869005818**  \n",
    "Test Score :       **0.7240840321338295**  \n",
    "LB score : **0.73546356**\n",
    "* non-zeroes features  \n",
    "Validation Score : **0.7220223958083952**  \n",
    "Test Score :       **0.7250863063812483**"
   ]
  }
 ],
 "metadata": {
  "kernelspec": {
   "display_name": "Python 3",
   "language": "python",
   "name": "python3"
  },
  "language_info": {
   "codemirror_mode": {
    "name": "ipython",
    "version": 3
   },
   "file_extension": ".py",
   "mimetype": "text/x-python",
   "name": "python",
   "nbconvert_exporter": "python",
   "pygments_lexer": "ipython3",
   "version": "3.5.3"
  }
 },
 "nbformat": 4,
 "nbformat_minor": 2
}
