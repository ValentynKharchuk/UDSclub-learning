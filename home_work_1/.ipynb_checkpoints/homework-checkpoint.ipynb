{
 "cells": [
  {
   "cell_type": "code",
   "execution_count": 1,
   "metadata": {},
   "outputs": [],
   "source": [
    "import numpy as np\n",
    "import pandas as pd\n",
    "import re"
   ]
  },
  {
   "cell_type": "markdown",
   "metadata": {},
   "source": [
    "Сколько страниц из русской Википедии в датасете? - **102**"
   ]
  },
  {
   "cell_type": "markdown",
   "metadata": {},
   "source": [
    "Какая самая популярная страница русской Википедии (в среднем)? - **Facebook**"
   ]
  },
  {
   "cell_type": "markdown",
   "metadata": {},
   "source": [
    "Значение SMAPE для предсказаний на основе последнего дня: **54.16127748085961**"
   ]
  },
  {
   "cell_type": "markdown",
   "metadata": {},
   "source": [
    "Значение SMAPE для предсказаний на основе последних 30 дней: **52.465883293370794**"
   ]
  },
  {
   "cell_type": "markdown",
   "metadata": {},
   "source": [
    "Минимальное значение SMAPE для предсказаний на основе медианы за последние **27** дней: **49.83547039727196**"
   ]
  },
  {
   "cell_type": "code",
   "execution_count": 2,
   "metadata": {},
   "outputs": [],
   "source": [
    "train = pd.read_csv('wikipedia_train.csv')\n",
    "test = pd.read_csv('wikipedia_test.csv')"
   ]
  },
  {
   "cell_type": "code",
   "execution_count": 3,
   "metadata": {},
   "outputs": [],
   "source": [
    "def pandas_smape(df):\n",
    "    df.fillna(0, inplace=True)\n",
    "    df[\"SMAPE\"] = 200 * np.abs(df[\"Visits\"] - df[\"pred_Visits\"]) / (df[\"Visits\"] + df[\"pred_Visits\"])\n",
    "    df[\"SMAPE\"].fillna(0, inplace=True)\n",
    "    return np.mean(df[\"SMAPE\"])"
   ]
  },
  {
   "cell_type": "code",
   "execution_count": 4,
   "metadata": {},
   "outputs": [
    {
     "name": "stdout",
     "output_type": "stream",
     "text": [
      "shape of train_melted: (401892, 3)\n",
      "shape of test_melted: (58218, 3)\n"
     ]
    }
   ],
   "source": [
    "train_melted = pd.melt(train, id_vars=['Page'], value_vars=train.columns[1:], var_name='date', value_name='Visits')\n",
    "test_melted = pd.melt(test, id_vars=['Page'], value_vars=test.columns[1:], var_name='date', value_name='Visits')\n",
    "print('shape of train_melted: {}'.format(train_melted.shape))\n",
    "print('shape of test_melted: {}'.format(test_melted.shape))"
   ]
  },
  {
   "cell_type": "markdown",
   "metadata": {},
   "source": [
    "Last day baseline\n",
    "(Нужно сделать прогноз на основе посещений в последний известный нам день из train (продублировать значение для каждого дня в test))"
   ]
  },
  {
   "cell_type": "code",
   "execution_count": 5,
   "metadata": {},
   "outputs": [
    {
     "name": "stdout",
     "output_type": "stream",
     "text": [
      "SMAPE base on last day: 54.16127748085961\n"
     ]
    }
   ],
   "source": [
    "date = train.columns[-1]\n",
    "visits = train[date]\n",
    "visits = pd.concat([visits] * 62, ignore_index=True)\n",
    "\n",
    "test_melted['pred_Visits'] = visits\n",
    "\n",
    "print('SMAPE base on last day: {}'.format(pandas_smape(test_melted)))"
   ]
  },
  {
   "cell_type": "markdown",
   "metadata": {},
   "source": [
    "Нужно сделать прогноз на основе медианы за последние 30 дней из train."
   ]
  },
  {
   "cell_type": "code",
   "execution_count": 6,
   "metadata": {
    "scrolled": true
   },
   "outputs": [
    {
     "name": "stdout",
     "output_type": "stream",
     "text": [
      "SMAPE base on 30 last days: 52.465883293370794\n"
     ]
    }
   ],
   "source": [
    "visits_30 = train[train.columns[-30:]].median(axis=1)\n",
    "visits_30 = pd.concat([visits_30] * 62, ignore_index=True)\n",
    "\n",
    "test_melted['pred_Visits'] = visits_30\n",
    "\n",
    "print('SMAPE base on 30 last days: {}'.format(pandas_smape(test_melted)))"
   ]
  },
  {
   "cell_type": "code",
   "execution_count": 71,
   "metadata": {},
   "outputs": [
    {
     "name": "stdout",
     "output_type": "stream",
     "text": [
      "SMAPE : 61.99148730061877\n"
     ]
    }
   ],
   "source": [
    "days = ['{:02d}'.format(i) for i in range(1, 32)]\n",
    "\n",
    "\n",
    "for day in days:\n",
    "    \n",
    "    cols = [col for col in train.columns if col[-2:] == day]\n",
    "\n",
    "    visit_day_mean = train.loc[:, cols].mean(axis=1)\n",
    "    \n",
    "    n = int(len(test_melted[test_melted.date.str[-2:] == day]) / 939)\n",
    "    \n",
    "    result = np.array(pd.concat([visit_day_mean] * n, ignore_index=True))\n",
    "    \n",
    "    test_melted.loc[test_melted.date.str[-2:] == day, 'pred_Visits'] = result\n",
    "    \n",
    "\n",
    "    \n",
    "print('SMAPE : {}'.format(pandas_smape(test_melted)))"
   ]
  },
  {
   "cell_type": "code",
   "execution_count": 162,
   "metadata": {},
   "outputs": [
    {
     "name": "stdout",
     "output_type": "stream",
     "text": [
      "Min SMAPE = 49.83547039727196\n",
      "for window in 27 last days\n"
     ]
    }
   ],
   "source": [
    "test_melted.date = pd.to_datetime(test_melted.date)\n",
    "\n",
    "test_melted['day_of_week'] = test_melted.date.dt.weekday_name\n",
    "\n",
    "days = ['Sunday', 'Monday', 'Tuesday', 'Wednesday', 'Thursday', 'Friday', 'Saturday']\n",
    "\n",
    "# result_dict = dict()\n",
    "\n",
    "# for size in range(62, 0, -1):\n",
    "\n",
    "#     for day in days:\n",
    "\n",
    "#         cols = [item for item in train.columns[1:] if pd.to_datetime(item).weekday_name == day]\n",
    "\n",
    "#         cols = cols[-size: ]\n",
    "\n",
    "#         visit_day_mean = train.loc[:, cols].median(axis=1)\n",
    "\n",
    "#         n = int(len(test_melted[test_melted.date.dt.weekday_name == day]) / 939)\n",
    "\n",
    "#         result = np.array(pd.concat([visit_day_mean] * n, ignore_index=True))\n",
    "\n",
    "#         test_melted.loc[test_melted.date.dt.weekday_name == day, 'pred_Visits'] = result\n",
    "    \n",
    "#     smape = pandas_smape(test_melted)\n",
    "    \n",
    "#     result_dict[size] = smape\n",
    "          \n",
    "#     print('size = {} last days; SMAPE : {}'.format(size, smape))\n",
    "\n",
    "min_value = min(list(result_dict.values()))\n",
    "\n",
    "for key, value in result_dict.items():\n",
    "    if value == min_value:\n",
    "        day = key\n",
    "        \n",
    "print('Min SMAPE = {}\\nfor window in {} last days'.format(min_value, day))\n"
   ]
  }
 ],
 "metadata": {
  "kernelspec": {
   "display_name": "Python 3",
   "language": "python",
   "name": "python3"
  },
  "language_info": {
   "codemirror_mode": {
    "name": "ipython",
    "version": 3
   },
   "file_extension": ".py",
   "mimetype": "text/x-python",
   "name": "python",
   "nbconvert_exporter": "python",
   "pygments_lexer": "ipython3",
   "version": "3.5.3"
  }
 },
 "nbformat": 4,
 "nbformat_minor": 2
}
