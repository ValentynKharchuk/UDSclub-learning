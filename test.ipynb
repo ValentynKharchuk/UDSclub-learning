{
 "cells": [
  {
   "cell_type": "code",
   "execution_count": 14,
   "metadata": {},
   "outputs": [
    {
     "name": "stdout",
     "output_type": "stream",
     "text": [
      "                 id  toxic  severe_toxic  obscene  threat  insult  \\\n",
      "0  00001cee341fdb12    0.5           0.5      0.5     0.5     0.5   \n",
      "1  0000247867823ef7    0.5           0.5      0.5     0.5     0.5   \n",
      "2  00013b17ad220c46    0.5           0.5      0.5     0.5     0.5   \n",
      "3  00017563c3f7919a    0.5           0.5      0.5     0.5     0.5   \n",
      "4  00017695ad8997eb    0.5           0.5      0.5     0.5     0.5   \n",
      "\n",
      "   identity_hate  \n",
      "0            0.5  \n",
      "1            0.5  \n",
      "2            0.5  \n",
      "3            0.5  \n",
      "4            0.5  \n"
     ]
    }
   ],
   "source": [
    "import pandas as pd\n",
    "\n",
    "file = 'sample_submission.csv'\n",
    "\n",
    "df = pd.read_csv(file)\n",
    "\n",
    "\n",
    "print(df.head())"
   ]
  }
 ],
 "metadata": {
  "kernelspec": {
   "display_name": "Python 3",
   "language": "python",
   "name": "python3"
  },
  "language_info": {
   "codemirror_mode": {
    "name": "ipython",
    "version": 3
   },
   "file_extension": ".py",
   "mimetype": "text/x-python",
   "name": "python",
   "nbconvert_exporter": "python",
   "pygments_lexer": "ipython3",
   "version": "3.5.3"
  }
 },
 "nbformat": 4,
 "nbformat_minor": 2
}
